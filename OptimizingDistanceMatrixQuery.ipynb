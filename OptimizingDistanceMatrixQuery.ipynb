{
 "cells": [
  {
   "cell_type": "markdown",
   "metadata": {},
   "source": [
    "# Optimizing Travel-time Matrix Model"
   ]
  },
  {
   "cell_type": "markdown",
   "metadata": {},
   "source": [
    "The problem we would like to address here is the following. We have a list of attractions in San Francisco and we would like to know the travel times between any given pair.  We can use the Google API to find average travel times, but this is expensive.   We would like to see if we can build a good model of the travel-time matrix such that we can avoid making so many queries in the future.  For the purpose of this investigation, we will just use a previously obtained travel-time matrix to build our model and see what the minmal required amount of data is.  \n",
    "\n",
    "Secondly, we would like to see if the knoweldge gradient policy can be used to make queries more efficient in the first place.  For the moment, the conclusions I am reaching are the following:\n",
    "\n",
    "1. A fairly good model of the distance matrix may be achieved with only a few thousand queries.\n",
    "\n",
    "2.  SigOpt vastly improves the time needed to find this optimal model relative to standard grid-search.  (For the particular dataset, model and search parameters used here the two methods did yield similar r-squared values, however.)\n",
    "\n",
    "3.  The knoweldge-gradient (KG) motivated query does not outperform a completely random query of the distance matrix.  (Our performance metrix is r-squared for the model built from the queried data, not optimizing a single route, in which case the KG policy is better.  Our goal, however, is to have a robust dataset which can be used to optimize ANY route in the future.)\n",
    "\n",
    "This note is organized as follows.  First, we download the necessary packages and data in Section I.  In Section II we will first build some models the ol' fashioned way, i.e, grid-search.  These models will take in two coordinates (lattiude, longitude) associated with our list of attractions and predict a travel time after training on the Google API results.  In Section III we will then compare the grid-search results with the SigOpt method.  Finally, in Section IV we will run some (very rudimentary) test on querying with a KG policy.  "
   ]
  },
  {
   "cell_type": "markdown",
   "metadata": {},
   "source": [
    "## I. Import pacakges and build dataset."
   ]
  },
  {
   "cell_type": "code",
   "execution_count": 89,
   "metadata": {
    "ExecuteTime": {
     "end_time": "2018-10-10T07:29:00.852704Z",
     "start_time": "2018-10-10T07:29:00.824139Z"
    }
   },
   "outputs": [],
   "source": [
    "import pickle as pkl\n",
    "from sklearn.model_selection import train_test_split\n",
    "from sklearn.ensemble import RandomForestRegressor\n",
    "from sklearn.ensemble import GradientBoostingRegressor\n",
    "from sklearn.linear_model import ElasticNet, BayesianRidge\n",
    "import random\n",
    "import math\n",
    "import time\n",
    "import warnings\n",
    "warnings.filterwarnings('ignore')\n",
    "import matplotlib.pyplot as plt\n",
    "%matplotlib inline\n",
    "from sigopt import Connection\n",
    "\n",
    "# API Token\n",
    "conn = Connection(client_token=\"QUIRZXPKOTDLYPQFVKRYMHYIEHUVZQRDGCMWPXQSOLHTNMXA\") \n",
    "\n",
    "# Dev Token\n",
    "# conn=Connection(client_token=\"EHKXUETTTHBUKXVPQKGTKKQYTWJYMCJIIISTGKSGJAPCYOXX\")"
   ]
  },
  {
   "cell_type": "markdown",
   "metadata": {},
   "source": [
    "Next we import the data already requested from the Google API and build our dataset."
   ]
  },
  {
   "cell_type": "code",
   "execution_count": 8,
   "metadata": {
    "ExecuteTime": {
     "end_time": "2018-10-10T05:35:59.384602Z",
     "start_time": "2018-10-10T05:35:57.939509Z"
    }
   },
   "outputs": [],
   "source": [
    "travel_times=pkl.load(open('/Users/williamcottrell72/MyGit/TravelApp/good_data/San_Francisco/travel_times.pkl','rb'))\n",
    "site_index=pkl.load(open('/Users/williamcottrell72/MyGit/TravelApp/good_data/San_Francisco/site_index.pkl','rb'))\n",
    "final_attractions=pkl.load(open('/Users/williamcottrell72/MyGit/TravelApp/good_data/San_Francisco/final_attractions_dict.pkl','rb'))\n",
    "\n",
    "coords={}\n",
    "for x in list(final_attractions.keys()):\n",
    "    coords[x]=final_attractions[x][0]['geometry']['location']\n",
    "    \n",
    "    \n",
    "def make_data(site_index,coords):\n",
    "    X=[]\n",
    "    Y=[]\n",
    "    for i in range(len(site_index)):\n",
    "        for j in range(len(site_index)):\n",
    "            origin=site_index[i]\n",
    "            destination=site_index[j]\n",
    "            var=np.array([coords[origin]['lat'],coords[origin]['lng'],coords[destination]['lat'],coords[destination]['lng']])\n",
    "            X.append(var)\n",
    "            Y.append(travel_times[i,j])\n",
    "    return np.vstack(X),np.array(Y)\n",
    "\n",
    "X,Y = make_data(site_index,coords)\n",
    "X_train, X_test, Y_train, Y_test = train_test_split(X, Y, test_size=0.2, random_state=42)\n",
    "    "
   ]
  },
  {
   "cell_type": "markdown",
   "metadata": {},
   "source": [
    "## II. Learning the Ol' Fashioned Way"
   ]
  },
  {
   "cell_type": "code",
   "execution_count": 5,
   "metadata": {
    "ExecuteTime": {
     "end_time": "2018-10-10T05:28:44.162252Z",
     "start_time": "2018-10-10T05:28:44.159931Z"
    }
   },
   "outputs": [],
   "source": [
    "from sklearn.model_selection import GridSearchCV"
   ]
  },
  {
   "cell_type": "markdown",
   "metadata": {},
   "source": [
    "The data we are given consists of lattitude and longitude values in degrees.  It is helpful to have a function which converts these spherical coordinates to an actual distance (arc-length on sphere).  Directly including the distance as a feature in our model can help us find an optimized model more quickly, since we naturally expect that the travel times correlate strongly with distance."
   ]
  },
  {
   "cell_type": "code",
   "execution_count": 6,
   "metadata": {
    "ExecuteTime": {
     "end_time": "2018-10-10T05:35:53.308400Z",
     "start_time": "2018-10-10T05:35:53.303805Z"
    }
   },
   "outputs": [],
   "source": [
    "def make_distance(X_train):\n",
    "    p1=X_train[:,:2]\n",
    "    p2=X_train[:,2:]\n",
    "    x1=np.cos(p1[:,0]*math.pi/180)*np.cos(p1[:,1]*math.pi/180)\n",
    "    x2=np.cos(p2[:,0]*math.pi/180)*np.cos(p2[:,1]*math.pi/180)\n",
    "    y1=np.cos(p1[:,0]*math.pi/180)*np.sin(p1[:,1]*math.pi/180)\n",
    "    y2=np.cos(p2[:,0]*math.pi/180)*np.sin(p2[:,1]*math.pi/180)\n",
    "    z1=np.sin(p1[:,0]*math.pi/180)\n",
    "    z2=np.sin(p2[:,0]*math.pi/180)\n",
    "    dot=x1*x2+y1*y2+z1*z2\n",
    "    distance=3959*np.arccos(dot) \n",
    "#   The factor above accounts for the radius of the earth in miles\n",
    "    return distance"
   ]
  },
  {
   "cell_type": "markdown",
   "metadata": {},
   "source": [
    "Next we compute distances between all pairs of points.  The arcos function occasionally returns a NaN since the dot-product is occasionally greater than one due to numerical error.  We remove these elemetns by creating a mask."
   ]
  },
  {
   "cell_type": "code",
   "execution_count": 11,
   "metadata": {
    "ExecuteTime": {
     "end_time": "2018-10-10T05:40:01.488018Z",
     "start_time": "2018-10-10T05:40:01.413789Z"
    }
   },
   "outputs": [
    {
     "name": "stderr",
     "output_type": "stream",
     "text": [
      "/Users/williamcottrell72/anaconda3/lib/python3.6/site-packages/ipykernel_launcher.py:11: RuntimeWarning: invalid value encountered in arccos\n",
      "  # This is added back by InteractiveShellApp.init_path()\n"
     ]
    }
   ],
   "source": [
    "distance=make_distance(X)\n",
    "mask=~np.isnan(distance)\n",
    "X2=np.concatenate((X,distance.reshape((len(X),-1))),axis=1)\n",
    "\n",
    "train_distance=make_distance(X_train)\n",
    "test_distance=make_distance(X_test)\n",
    "train_mask=~np.isnan(train_distance)\n",
    "test_mask=~np.isnan(test_distance)\n",
    "\n",
    "X_train2=np.concatenate((X_train,train_distance.reshape((len(X_train),-1))),axis=1)\n",
    "X_test2=np.concatenate((X_test,test_distance.reshape((len(X_test),-1))),axis=1)"
   ]
  },
  {
   "cell_type": "markdown",
   "metadata": {},
   "source": [
    "Now let's see how a few different models do in predicting the data.  (I tried some other models as well; these are just representative.)"
   ]
  },
  {
   "cell_type": "markdown",
   "metadata": {},
   "source": [
    "### Random Forest"
   ]
  },
  {
   "cell_type": "code",
   "execution_count": 12,
   "metadata": {
    "ExecuteTime": {
     "end_time": "2018-10-10T05:41:36.106154Z",
     "start_time": "2018-10-10T05:41:36.103790Z"
    }
   },
   "outputs": [],
   "source": [
    "param_grid={\"max_features\":['sqrt'],\"max_depth\":[3,4,5,10,20],\"criterion\":['mse']}\n",
    "rf=RandomForestRegressor()"
   ]
  },
  {
   "cell_type": "code",
   "execution_count": 39,
   "metadata": {
    "ExecuteTime": {
     "end_time": "2018-10-10T06:15:10.843588Z",
     "start_time": "2018-10-10T06:13:49.409393Z"
    }
   },
   "outputs": [
    {
     "data": {
      "text/plain": [
       "GridSearchCV(cv=10, error_score='raise',\n",
       "       estimator=RandomForestRegressor(bootstrap=True, criterion='mse', max_depth=None,\n",
       "           max_features='auto', max_leaf_nodes=None,\n",
       "           min_impurity_decrease=0.0, min_impurity_split=None,\n",
       "           min_samples_leaf=1, min_samples_split=2,\n",
       "           min_weight_fraction_leaf=0.0, n_estimators=10, n_jobs=1,\n",
       "           oob_score=False, random_state=None, verbose=0, warm_start=False),\n",
       "       fit_params=None, iid=True, n_jobs=1,\n",
       "       param_grid={'max_features': ['sqrt'], 'max_depth': [3, 4, 5, 10, 20], 'criterion': ['mse']},\n",
       "       pre_dispatch='2*n_jobs', refit=True, return_train_score='warn',\n",
       "       scoring='r2', verbose=0)"
      ]
     },
     "execution_count": 39,
     "metadata": {},
     "output_type": "execute_result"
    }
   ],
   "source": [
    "gscv=GridSearchCV(rf,param_grid,scoring='r2',cv=10)\n",
    "gscv.fit(X_train[train_mask],Y_train[train_mask])"
   ]
  },
  {
   "cell_type": "code",
   "execution_count": 33,
   "metadata": {
    "ExecuteTime": {
     "end_time": "2018-10-10T06:09:46.154903Z",
     "start_time": "2018-10-10T06:09:46.151663Z"
    }
   },
   "outputs": [
    {
     "data": {
      "text/plain": [
       "0.9522641293041266"
      ]
     },
     "execution_count": 33,
     "metadata": {},
     "output_type": "execute_result"
    }
   ],
   "source": [
    "gscv.best_score_"
   ]
  },
  {
   "cell_type": "code",
   "execution_count": 34,
   "metadata": {
    "ExecuteTime": {
     "end_time": "2018-10-10T06:09:49.285152Z",
     "start_time": "2018-10-10T06:09:49.281535Z"
    }
   },
   "outputs": [
    {
     "data": {
      "text/plain": [
       "{'criterion': 'mse', 'max_depth': 20, 'max_features': 'sqrt'}"
      ]
     },
     "execution_count": 34,
     "metadata": {},
     "output_type": "execute_result"
    }
   ],
   "source": [
    "gscv.best_params_"
   ]
  },
  {
   "cell_type": "markdown",
   "metadata": {},
   "source": [
    "This score was pretty good, but we can maybe do better if we include the distance explicitly as a feature. Let's see: "
   ]
  },
  {
   "cell_type": "code",
   "execution_count": 44,
   "metadata": {
    "ExecuteTime": {
     "end_time": "2018-10-10T06:19:24.741702Z",
     "start_time": "2018-10-10T06:17:39.678668Z"
    }
   },
   "outputs": [
    {
     "data": {
      "text/plain": [
       "GridSearchCV(cv=10, error_score='raise',\n",
       "       estimator=RandomForestRegressor(bootstrap=True, criterion='mse', max_depth=None,\n",
       "           max_features='auto', max_leaf_nodes=None,\n",
       "           min_impurity_decrease=0.0, min_impurity_split=None,\n",
       "           min_samples_leaf=1, min_samples_split=2,\n",
       "           min_weight_fraction_leaf=0.0, n_estimators=10, n_jobs=1,\n",
       "           oob_score=False, random_state=None, verbose=0, warm_start=False),\n",
       "       fit_params=None, iid=True, n_jobs=1,\n",
       "       param_grid={'max_features': ['sqrt'], 'max_depth': [3, 4, 5, 10, 20], 'criterion': ['mse']},\n",
       "       pre_dispatch='2*n_jobs', refit=True, return_train_score='warn',\n",
       "       scoring='r2', verbose=0)"
      ]
     },
     "execution_count": 44,
     "metadata": {},
     "output_type": "execute_result"
    }
   ],
   "source": [
    "gscv_distance=GridSearchCV(rf,param_grid,scoring='r2',cv=10)\n",
    "gscv_distance.fit(X_train2[train_mask],Y_train[train_mask])"
   ]
  },
  {
   "cell_type": "code",
   "execution_count": 36,
   "metadata": {
    "ExecuteTime": {
     "end_time": "2018-10-10T06:11:36.509299Z",
     "start_time": "2018-10-10T06:11:36.505100Z"
    }
   },
   "outputs": [
    {
     "data": {
      "text/plain": [
       "0.9579188069525626"
      ]
     },
     "execution_count": 36,
     "metadata": {},
     "output_type": "execute_result"
    }
   ],
   "source": [
    "gscv_distance.best_score_"
   ]
  },
  {
   "cell_type": "code",
   "execution_count": 37,
   "metadata": {
    "ExecuteTime": {
     "end_time": "2018-10-10T06:11:36.557396Z",
     "start_time": "2018-10-10T06:11:36.553270Z"
    }
   },
   "outputs": [
    {
     "data": {
      "text/plain": [
       "{'criterion': 'mse', 'max_depth': 20, 'max_features': 'sqrt'}"
      ]
     },
     "execution_count": 37,
     "metadata": {},
     "output_type": "execute_result"
    }
   ],
   "source": [
    "gscv_distance.best_params_"
   ]
  },
  {
   "cell_type": "markdown",
   "metadata": {},
   "source": [
    "Indeed, the score was better.  However, so far this was all GSCV on the training data.  As we can see, it helped (though not much) to include the distance explicitly as a feature.  Let's see how we did on the test set.  "
   ]
  },
  {
   "cell_type": "code",
   "execution_count": 45,
   "metadata": {
    "ExecuteTime": {
     "end_time": "2018-10-10T06:22:43.911221Z",
     "start_time": "2018-10-10T06:22:43.470154Z"
    }
   },
   "outputs": [
    {
     "data": {
      "text/plain": [
       "(1.736335145334208, 0.9017578795759421)"
      ]
     },
     "execution_count": 45,
     "metadata": {},
     "output_type": "execute_result"
    }
   ],
   "source": [
    "def rmse(X,Y,model):\n",
    "    Y_predict=model.predict(X)\n",
    "    mse=sum(((Y-Y_predict)**(2))/len(X))\n",
    "    return mse**.5\n",
    "\n",
    "def rsquared(X,Y,model):\n",
    "    Y_predict=model.predict(X)\n",
    "    mean=np.mean(Y_predict)\n",
    "    Y_mean=np.array([mean for _ in range(len(Y))])\n",
    "    return 1-rmse(X,Y,model)**2/((sum(Y-Y_mean)**2)/len(X))\n",
    "\n",
    "rmse(X_test[test_mask],Y_test[test_mask],gscv), rsquared(X_test[test_mask],Y_test[test_mask],gscv)"
   ]
  },
  {
   "cell_type": "code",
   "execution_count": 47,
   "metadata": {
    "ExecuteTime": {
     "end_time": "2018-10-10T06:23:19.938775Z",
     "start_time": "2018-10-10T06:23:19.437648Z"
    }
   },
   "outputs": [
    {
     "data": {
      "text/plain": [
       "(1.6640942179595257, -0.8323942675954417)"
      ]
     },
     "execution_count": 47,
     "metadata": {},
     "output_type": "execute_result"
    }
   ],
   "source": [
    "rmse(X_test2[test_mask],Y_test[test_mask],gscv_distance), rsquared(X_test2[test_mask],Y_test[test_mask],gscv_distance)"
   ]
  },
  {
   "cell_type": "markdown",
   "metadata": {
    "ExecuteTime": {
     "end_time": "2018-10-10T05:55:28.718397Z",
     "start_time": "2018-10-10T05:55:28.112441Z"
    }
   },
   "source": [
    "Ok, we see that NOT including the distance as a feature wins hands down on the test set.  We therefore prefer the 'gscv' model without the distance.  The reason for this is obvious in retrospect.  Using the distance instead of one of the other coordinates means that there are actually three possible points on the map for any pair of coordinates.  (Given a point, a radius, and a line of lattiude there are two intersections, hence, three points altogether.) . Thus, we can't actually uniquely construct the points from this data X_train2.  The model gscv_distance therefore is not really learning about the regions in space as it should, it muddles different regions.  We could include redundant data (distance and both lat, lng's) but the simpler model 'gscv' is already doing pretty well.  For the simpler model, the rmse is in minutes, so this corresponds to an error of about 1.7 minutes on the test set.  "
   ]
  },
  {
   "cell_type": "markdown",
   "metadata": {},
   "source": [
    "### Gradient Boosting"
   ]
  },
  {
   "cell_type": "markdown",
   "metadata": {},
   "source": [
    "Let's try gradient boosting and see if we get anything better.  I'm using a subset of the data on account of how slow the training is for this model.  (Not sure why that is....)"
   ]
  },
  {
   "cell_type": "code",
   "execution_count": 49,
   "metadata": {
    "ExecuteTime": {
     "end_time": "2018-10-10T06:38:46.918480Z",
     "start_time": "2018-10-10T06:31:16.588038Z"
    }
   },
   "outputs": [
    {
     "data": {
      "text/plain": [
       "GridSearchCV(cv=5, error_score='raise',\n",
       "       estimator=GradientBoostingRegressor(alpha=0.9, criterion='friedman_mse', init=None,\n",
       "             learning_rate=0.1, loss='ls', max_depth=3, max_features=None,\n",
       "             max_leaf_nodes=None, min_impurity_decrease=0.0,\n",
       "             min_impurity_split=None, min_samples_leaf=1,\n",
       "             min_samples_split=2, min_weight_fraction_leaf=0.0,\n",
       "             n_estimators=100, presort='auto', random_state=None,\n",
       "             subsample=1.0, verbose=0, warm_start=False),\n",
       "       fit_params=None, iid=True, n_jobs=1,\n",
       "       param_grid={'learning_rate': [0.1, 0.01], 'n_estimators': [10], 'criterion': ['friedman_mse', 'mae'], 'min_samples_split': [3, 4], 'max_depth': [3, 10]},\n",
       "       pre_dispatch='2*n_jobs', refit=True, return_train_score='warn',\n",
       "       scoring='r2', verbose=0)"
      ]
     },
     "execution_count": 49,
     "metadata": {},
     "output_type": "execute_result"
    }
   ],
   "source": [
    "gbr_param_grid={\"learning_rate\":[.1,.01],\"n_estimators\":[10],\"criterion\":[\"friedman_mse\",\"mae\"],\"min_samples_split\":[3,4],\"max_depth\":[3,10]}\n",
    "gbr=GradientBoostingRegressor()\n",
    "gbr_gscv=GridSearchCV(gbr,gbr_param_grid,scoring='r2',cv=5)\n",
    "gbr_gscv.fit(X_train[train_mask][:10000],Y_train[train_mask][:10000])"
   ]
  },
  {
   "cell_type": "code",
   "execution_count": 33,
   "metadata": {
    "ExecuteTime": {
     "end_time": "2018-10-07T03:40:45.633404Z",
     "start_time": "2018-10-07T03:40:45.630010Z"
    }
   },
   "outputs": [
    {
     "data": {
      "text/plain": [
       "0.7804515299271408"
      ]
     },
     "execution_count": 33,
     "metadata": {},
     "output_type": "execute_result"
    }
   ],
   "source": [
    "gbr_gscv.best_score_"
   ]
  },
  {
   "cell_type": "markdown",
   "metadata": {},
   "source": [
    "Meh.  Looks like we should stick with random forest."
   ]
  },
  {
   "cell_type": "markdown",
   "metadata": {},
   "source": [
    "### ElasticNet"
   ]
  },
  {
   "cell_type": "markdown",
   "metadata": {},
   "source": [
    "Just as a baseline, let's see how ElasticNet does when trained only on the distance."
   ]
  },
  {
   "cell_type": "code",
   "execution_count": 53,
   "metadata": {
    "ExecuteTime": {
     "end_time": "2018-10-10T06:43:09.339811Z",
     "start_time": "2018-10-10T06:43:09.337031Z"
    }
   },
   "outputs": [],
   "source": [
    "elasticnet_param_grid={\"alpha\":[.001,.01,.1,10],\"l1_ratio\":[.1,.5,.9]}\n",
    "elasticnet=ElasticNet()"
   ]
  },
  {
   "cell_type": "code",
   "execution_count": 54,
   "metadata": {
    "ExecuteTime": {
     "end_time": "2018-10-10T06:43:10.186796Z",
     "start_time": "2018-10-10T06:43:10.184272Z"
    }
   },
   "outputs": [],
   "source": [
    "elasticnet_gscv=GridSearchCV(elasticnet,elasticnet_param_grid,cv=5,scoring='r2')"
   ]
  },
  {
   "cell_type": "code",
   "execution_count": 57,
   "metadata": {
    "ExecuteTime": {
     "end_time": "2018-10-10T06:43:41.612895Z",
     "start_time": "2018-10-10T06:43:41.064404Z"
    }
   },
   "outputs": [
    {
     "data": {
      "text/plain": [
       "GridSearchCV(cv=5, error_score='raise',\n",
       "       estimator=ElasticNet(alpha=1.0, copy_X=True, fit_intercept=True, l1_ratio=0.5,\n",
       "      max_iter=1000, normalize=False, positive=False, precompute=False,\n",
       "      random_state=None, selection='cyclic', tol=0.0001, warm_start=False),\n",
       "       fit_params=None, iid=True, n_jobs=1,\n",
       "       param_grid={'alpha': [0.001, 0.01, 0.1, 10], 'l1_ratio': [0.1, 0.5, 0.9]},\n",
       "       pre_dispatch='2*n_jobs', refit=True, return_train_score='warn',\n",
       "       scoring='r2', verbose=0)"
      ]
     },
     "execution_count": 57,
     "metadata": {},
     "output_type": "execute_result"
    }
   ],
   "source": [
    "elasticnet_gscv.fit(train_distance[train_mask].reshape(-1,1),Y_train[train_mask])"
   ]
  },
  {
   "cell_type": "code",
   "execution_count": 58,
   "metadata": {
    "ExecuteTime": {
     "end_time": "2018-10-10T06:43:45.009805Z",
     "start_time": "2018-10-10T06:43:45.006048Z"
    }
   },
   "outputs": [
    {
     "data": {
      "text/plain": [
       "0.562055450289036"
      ]
     },
     "execution_count": 58,
     "metadata": {},
     "output_type": "execute_result"
    }
   ],
   "source": [
    "elasticnet_gscv.best_score_"
   ]
  },
  {
   "cell_type": "markdown",
   "metadata": {},
   "source": [
    "This is not so bad as a baseline.  It is also useful to know the average speed:"
   ]
  },
  {
   "cell_type": "code",
   "execution_count": 82,
   "metadata": {
    "ExecuteTime": {
     "end_time": "2018-10-10T07:19:50.987262Z",
     "start_time": "2018-10-10T07:19:50.983091Z"
    }
   },
   "outputs": [
    {
     "data": {
      "text/plain": [
       "2.019768197383924"
      ]
     },
     "execution_count": 82,
     "metadata": {},
     "output_type": "execute_result"
    }
   ],
   "source": [
    "coef=(elasticnet_gscv.predict(np.array([100000]).reshape(-1,1))/100000)[0]\n",
    "coef"
   ]
  },
  {
   "cell_type": "markdown",
   "metadata": {},
   "source": [
    "This means that the average speed is about 2.02 minutes per mile, or 30 mph if we consider distance as the crow flies.  It seems that google is being very optimistic for city travel."
   ]
  },
  {
   "cell_type": "markdown",
   "metadata": {},
   "source": [
    "## III.  Estimating Computation Costs + Requirements."
   ]
  },
  {
   "cell_type": "markdown",
   "metadata": {},
   "source": [
    "### How Much Data is Necessary?"
   ]
  },
  {
   "cell_type": "markdown",
   "metadata": {},
   "source": [
    "Our real interest is in answering the question, \"How cheap can we be?\".  In other words, what is the minimal amount of data that gives an acceptable rmse?  We are also interested in how long these processes take since this will determine where the calculations get carried out once we start scaling up.  Let's try and address this with traditional methods."
   ]
  },
  {
   "cell_type": "code",
   "execution_count": 62,
   "metadata": {
    "ExecuteTime": {
     "end_time": "2018-10-10T06:49:47.602140Z",
     "start_time": "2018-10-10T06:49:47.014706Z"
    }
   },
   "outputs": [],
   "source": [
    "shuffle=np.random.permutation(sum(train_mask))\n",
    "Xrand=X_train[train_mask][shuffle]\n",
    "Yrand=Y_train[train_mask][shuffle]"
   ]
  },
  {
   "cell_type": "markdown",
   "metadata": {},
   "source": [
    "### Timing"
   ]
  },
  {
   "cell_type": "code",
   "execution_count": 60,
   "metadata": {
    "ExecuteTime": {
     "end_time": "2018-10-10T06:47:47.229191Z",
     "start_time": "2018-10-10T06:47:47.226570Z"
    }
   },
   "outputs": [],
   "source": [
    "rf_timetest=RandomForestRegressor(n_estimators=50,max_depth=25,max_features='sqrt',criterion='mse')"
   ]
  },
  {
   "cell_type": "code",
   "execution_count": 64,
   "metadata": {
    "ExecuteTime": {
     "end_time": "2018-10-10T06:52:40.095346Z",
     "start_time": "2018-10-10T06:51:36.877512Z"
    }
   },
   "outputs": [],
   "source": [
    "times=[]\n",
    "for k in np.rint(np.logspace(1,5.5,base=10,num=30)):\n",
    "    time_start = time.clock()\n",
    "    rf_timetest.fit(Xrand[:int(k)],Yrand[:int(k)])\n",
    "    time_elapsed = (time.clock() - time_start)\n",
    "#     print(k)\n",
    "    times.append(time_elapsed)"
   ]
  },
  {
   "cell_type": "code",
   "execution_count": 73,
   "metadata": {
    "ExecuteTime": {
     "end_time": "2018-10-10T06:55:34.501036Z",
     "start_time": "2018-10-10T06:55:34.400872Z"
    }
   },
   "outputs": [
    {
     "data": {
      "image/png": "[encoded data removed]",
      "text/plain": [
       "<Figure size 432x288 with 1 Axes>"
      ]
     },
     "metadata": {
      "needs_background": "light"
     },
     "output_type": "display_data"
    }
   ],
   "source": [
    "loglist=np.rint(np.logspace(1,5.5,base=10,num=30))\n",
    "plt.scatter(np.array(range(1,len(times)+1))*5.5/30,times)\n",
    "plt.plot(np.array(range(1,len(times)+1))*5.5/30,[6.2*(10**-5)*k for k in loglist],c='red')\n",
    "plt.ylabel(\"Computation Time (s)\")\n",
    "plt.xlabel(\"Log(N)\")\n",
    "plt.title(\"Compuation Time\")\n",
    "# plt.plot()\n",
    "plt.show()"
   ]
  },
  {
   "cell_type": "code",
   "execution_count": 75,
   "metadata": {
    "ExecuteTime": {
     "end_time": "2018-10-10T07:00:50.372964Z",
     "start_time": "2018-10-10T06:56:12.460385Z"
    }
   },
   "outputs": [],
   "source": [
    "score=[]\n",
    "r2_score=[]\n",
    "for k in np.rint(np.logspace(1,5.5,base=10,num=30)):\n",
    "    gscv.fit(Xrand[:int(k)],Yrand[:int(k)])\n",
    "#     print(k)\n",
    "    score.append(rmse(X_test[test_mask],Y_test[test_mask],gscv))\n",
    "    r2_score.append(gscv.best_score_)    "
   ]
  },
  {
   "cell_type": "code",
   "execution_count": 25,
   "metadata": {
    "ExecuteTime": {
     "end_time": "2018-10-07T23:01:23.785206Z",
     "start_time": "2018-10-07T23:01:23.704070Z"
    }
   },
   "outputs": [
    {
     "data": {
      "image/png": "[encoded data removed]",
      "text/plain": [
       "<Figure size 432x288 with 1 Axes>"
      ]
     },
     "metadata": {
      "needs_background": "light"
     },
     "output_type": "display_data"
    }
   ],
   "source": [
    "plt.plot(np.linspace(1,5.5,30)[1:],score[1:])\n",
    "# plt.plot(np.linspace(1,5.5,100),[5 for _ in range(100)])\n",
    "plt.xlabel(\"Log(N)\")\n",
    "plt.ylabel(\"RMSE (min)\")\n",
    "plt.title(\"Random Forest Model\")\n",
    "plt.show()"
   ]
  },
  {
   "cell_type": "markdown",
   "metadata": {},
   "source": [
    "## IV. SigOpt Experiment"
   ]
  },
  {
   "cell_type": "markdown",
   "metadata": {
    "heading_collapsed": true
   },
   "source": [
    "### Test Experiment"
   ]
  },
  {
   "cell_type": "code",
   "execution_count": 19,
   "metadata": {
    "ExecuteTime": {
     "end_time": "2018-10-06T21:31:59.398996Z",
     "start_time": "2018-10-06T21:31:58.536519Z"
    },
    "hidden": true
   },
   "outputs": [
    {
     "name": "stdout",
     "output_type": "stream",
     "text": [
      "Created experiment: https://sigopt.com/experiment/54002\n"
     ]
    }
   ],
   "source": [
    "test_experiment=conn.experiments().create(\n",
    "    name=\"Testing-ElasticNet\",\n",
    "    parameters=[\n",
    "        dict(\n",
    "            name=\"alpha\",\n",
    "            bounds=dict(\n",
    "                min=.000001,\n",
    "                max=1),\n",
    "            type=\"double\"),\n",
    "        dict(\n",
    "            name=\"l1_ratio\",\n",
    "            bounds=dict(\n",
    "                min=0,\n",
    "                max=100),\n",
    "            type=\"double\")],\n",
    "#     metadata=dict(\n",
    "#         template=\"python_sklearn_elasticnet\"),    \n",
    "        observation_budget=10)\n",
    "    \n",
    "\n",
    "print(\"Created experiment: https://sigopt.com/experiment/\" + test_experiment.id)\n",
    "\n",
    "\n",
    "def create_model_test(assignments):\n",
    "    model = ElasticNet(\n",
    "        alpha=assignments['alpha'],\n",
    "        l1_ratio=assignments['l1_ratio'],\n",
    "    ).fit(distance[train_mask], Y_train[train_mask])\n",
    "    return model\n",
    "\n",
    "def evaluate_model_test(assignments):\n",
    "    model = create_model(assignments)\n",
    "    return model.score(distance[test_mask], Y_test[test_mask])\n",
    "\n",
    "\n",
    "for _ in range(test_experiment.observation_budget):\n",
    "    suggestion = conn.experiments(test_experiment.id).suggestions().create()\n",
    "    assignments = suggestion.assignments\n",
    "    value = evaluate_model_test(assignments)\n",
    "\n",
    "    conn.experiments(test_experiment.id).observations().create(\n",
    "        suggestion=suggestion.id,\n",
    "        value=value\n",
    "    )\n",
    "#     suggestion = conn.experiments(experiment.id).suggestions(suggestion.id).delete()\n",
    "\n",
    "assignments = conn.experiments(test_experiment.id).best_assignments().fetch().data[0].assignments\n",
    "\n",
    "print(assignments)\n",
    "\n",
    "# This is a SigOpt-tuned model\n",
    "test_experiment = create_model(assignments)"
   ]
  },
  {
   "cell_type": "code",
   "execution_count": null,
   "metadata": {
    "hidden": true
   },
   "outputs": [],
   "source": []
  },
  {
   "cell_type": "markdown",
   "metadata": {},
   "source": [
    "## Actual Experiment"
   ]
  },
  {
   "cell_type": "code",
   "execution_count": 52,
   "metadata": {
    "ExecuteTime": {
     "end_time": "2018-10-07T19:33:44.439572Z",
     "start_time": "2018-10-07T19:33:43.904521Z"
    }
   },
   "outputs": [
    {
     "name": "stdout",
     "output_type": "stream",
     "text": [
      "Created experiment: https://sigopt.com/experiment/54026\n"
     ]
    }
   ],
   "source": [
    "experiment = conn.experiments().create(\n",
    "  name=\"Random Forest Regresor 2.0 \",\n",
    "  parameters=[\n",
    "    dict(\n",
    "      name=\"max_features\",\n",
    "      categorical_values=[\n",
    "        dict(\n",
    "          name=\"sqrt\"\n",
    "          ),\n",
    "        dict(\n",
    "          name=\"log2\"\n",
    "          )\n",
    "        ],\n",
    "      type=\"categorical\"\n",
    "      ),\n",
    "    dict(\n",
    "      name=\"max_depth\",\n",
    "      bounds=dict(\n",
    "        min=3,\n",
    "        max=30\n",
    "        ),\n",
    "      type=\"int\"\n",
    "      ),\n",
    "    dict(\n",
    "      name=\"criterion\",\n",
    "      categorical_values=[\n",
    "        dict(\n",
    "          name=\"mse\"\n",
    "          ),\n",
    "        dict(\n",
    "          name=\"mae\"\n",
    "          )\n",
    "        ],\n",
    "      type=\"categorical\"\n",
    "      ),\n",
    "    dict(\n",
    "      name=\"n_estimators\",\n",
    "      bounds=dict(\n",
    "        min=10,\n",
    "        max=100\n",
    "        ),\n",
    "      type=\"int\"\n",
    "      )\n",
    "    ],\n",
    "  metadata=dict(\n",
    "    template=\"python_sklearn_randomforest\"\n",
    "    ),\n",
    "  observation_budget=40\n",
    "  )\n",
    "\n",
    "print(\"Created experiment: https://sigopt.com/experiment/\" + experiment.id)"
   ]
  },
  {
   "cell_type": "code",
   "execution_count": 12,
   "metadata": {
    "ExecuteTime": {
     "end_time": "2018-10-08T19:28:39.648089Z",
     "start_time": "2018-10-08T19:28:39.635004Z"
    }
   },
   "outputs": [],
   "source": [
    "new_parameters=[\n",
    "    dict(\n",
    "      name=\"max_features\",\n",
    "      categorical_values=[\n",
    "        dict(\n",
    "          name=\"sqrt\"\n",
    "          ),\n",
    "        dict(\n",
    "          name=\"log2\"\n",
    "          )\n",
    "        ],\n",
    "      type=\"categorical\"\n",
    "      ),\n",
    "    dict(\n",
    "      name=\"max_depth\",\n",
    "      bounds=dict(\n",
    "        min=3,\n",
    "        max=100\n",
    "        ),\n",
    "      type=\"int\"\n",
    "      ),\n",
    "    dict(\n",
    "      name=\"criterion\",\n",
    "      categorical_values=[\n",
    "        dict(\n",
    "          name=\"mse\"\n",
    "          ),\n",
    "        dict(\n",
    "          name=\"mae\"\n",
    "          )\n",
    "        ],\n",
    "      type=\"categorical\"\n",
    "      ),\n",
    "    dict(\n",
    "      name=\"n_estimators\",\n",
    "      bounds=dict(\n",
    "        min=10,\n",
    "        max=1000\n",
    "        ),\n",
    "      type=\"int\"\n",
    "      )\n",
    "    ]"
   ]
  },
  {
   "cell_type": "code",
   "execution_count": 20,
   "metadata": {
    "ExecuteTime": {
     "end_time": "2018-10-08T19:31:29.361139Z",
     "start_time": "2018-10-08T19:31:28.828048Z"
    }
   },
   "outputs": [],
   "source": [
    "experiment=conn.experiments(54026).update(parameters=new_parameters)"
   ]
  },
  {
   "cell_type": "code",
   "execution_count": 21,
   "metadata": {
    "ExecuteTime": {
     "end_time": "2018-10-08T19:31:29.877189Z",
     "start_time": "2018-10-08T19:31:29.873359Z"
    }
   },
   "outputs": [],
   "source": [
    "def create_model(assignments):\n",
    "    model = RandomForestRegressor(\n",
    "        max_features=assignments['max_features'],\n",
    "        max_depth=assignments['max_depth'],\n",
    "        criterion=assignments['criterion'],\n",
    "        n_estimators=assignments['n_estimators'],\n",
    "    ).fit(Xrand[:20000], Yrand[:20000])\n",
    "    return model\n",
    "\n",
    "def evaluate_model(assignments):\n",
    "    model = create_model(assignments)\n",
    "    return model.score(X_test[test_mask], Y_test[test_mask])\n",
    "\n",
    "# conn.set_api_url(\"https://api.sigopt.com\")\n",
    "# conn.experiments(53999).suggestions().create()\n",
    "# suggestions_open = conn.experiments(53999).suggestions().fetch(\n",
    "#   state=\"open\"\n",
    "#   )\n",
    "# suggestion = conn.experiments(experiment.id).suggestions(21453053).delete()"
   ]
  },
  {
   "cell_type": "code",
   "execution_count": 22,
   "metadata": {
    "ExecuteTime": {
     "end_time": "2018-10-08T19:47:18.309852Z",
     "start_time": "2018-10-08T19:31:48.741323Z"
    }
   },
   "outputs": [
    {
     "name": "stdout",
     "output_type": "stream",
     "text": [
      "Assignments({\n",
      "  \"criterion\": \"mse\",\n",
      "  \"max_depth\": 57,\n",
      "  \"max_features\": \"log2\",\n",
      "  \"n_estimators\": 188\n",
      "})\n"
     ]
    }
   ],
   "source": [
    "score=[]\n",
    "assignment_history=[]\n",
    "for _ in range(20):\n",
    "    suggestion = conn.experiments(54026).suggestions().create()\n",
    "    assignments = suggestion.assignments\n",
    "    assignment_history.append(assignments)\n",
    "    value = evaluate_model(assignments)\n",
    "    score.append(value)\n",
    "\n",
    "    conn.experiments(54026).observations().create(\n",
    "        suggestion=suggestion.id,\n",
    "        value=value\n",
    "    )\n",
    "#     suggestion = conn.experiments(experiment.id).suggestions(suggestion.id).delete()\n",
    "\n",
    "assignments = conn.experiments(54026).best_assignments().fetch().data[0].assignments\n",
    "\n",
    "print(assignments)\n",
    "\n",
    "# This is a SigOpt-tuned model\n",
    "rf_regressor_v2 = create_model(assignments)"
   ]
  },
  {
   "cell_type": "code",
   "execution_count": 17,
   "metadata": {
    "ExecuteTime": {
     "end_time": "2018-10-08T00:09:50.248489Z",
     "start_time": "2018-10-08T00:09:49.310392Z"
    }
   },
   "outputs": [
    {
     "data": {
      "text/plain": [
       "2.437094811267731"
      ]
     },
     "execution_count": 17,
     "metadata": {},
     "output_type": "execute_result"
    }
   ],
   "source": [
    "rmse(X_test[test_mask],Y_test[test_mask],rf_regressor_v2)"
   ]
  },
  {
   "cell_type": "markdown",
   "metadata": {},
   "source": [
    "## V.  Intelligent Queries via Bayesian Optimization"
   ]
  },
  {
   "cell_type": "markdown",
   "metadata": {
    "ExecuteTime": {
     "end_time": "2018-10-08T03:37:08.020622Z",
     "start_time": "2018-10-08T03:37:08.016563Z"
    }
   },
   "source": [
    "We want to query the google travel-time matrix as intelligently as possible so that we can build a model with as little data as possible.  This is very similar to the kind of problem discussed in \"Information Collection On A Graph\" by Ryzhov and Powell.  One crucial difference is that they were interested in finding the best path after collecting data.  For their purposes, the values of each link are fixed but unknown.  However, for the app that we would like to build, we need to be prepared to serve many different users who might value the individual links differently.  Given the complexity of actually evaluating a route score, the problems getting the data and evaluating the score need to be effectively decoupled.  Thus, what we want is simply a good model of the travel-time matrix and our goal is to query the Google API so that we achieve a good model as quickly as possible.  It is not immediately obvious what the best way to achieve this goal is.  \n",
    "\n",
    "In the crude test below, we try out a KG motivated strategy for querying the Google API.  In the present case, the data we have already collected will serve as a stand-in for the google data we would ultimately be querying.  We roughly follow https://arxiv.org/pdf/1807.02811.pdf, where we update according to equation (3).  We choose a very simplistic method for evaluating the next poing - we merely pick the point with the highest variance at each stage.  We could probably do much better with a little more thought (and reading) but this was a useful first pass."
   ]
  },
  {
   "cell_type": "markdown",
   "metadata": {},
   "source": [
    "## Kernel"
   ]
  },
  {
   "cell_type": "markdown",
   "metadata": {},
   "source": [
    "In choosing a kernel we are asked to estimate how much one travel time should influence our knowledge of a second travel time.  It is reasonable to assume that if two places are within walking distance, e.g., half a mile, then the travel times are highly correlated.  We thus want something like a guassian kernel with a half-mile standard deviation.  First, we need to form a good notion of distance between two paths.  For the sake of argument, I'll use the following:"
   ]
  },
  {
   "cell_type": "code",
   "execution_count": 76,
   "metadata": {
    "ExecuteTime": {
     "end_time": "2018-10-10T07:11:45.556426Z",
     "start_time": "2018-10-10T07:11:45.552312Z"
    }
   },
   "outputs": [],
   "source": [
    "def path_distance_squared(path1,path2):\n",
    "    path1=path1.reshape(-1,4)\n",
    "    path2=path2.reshape(-1,4)\n",
    "    d11_squared=make_distance(np.concatenate((path1[:,:2],path2[:,:2]),axis=1))\n",
    "    d12_squared=make_distance(np.concatenate((path1[:,:2],path2[:,2:]),axis=1))\n",
    "    d21_squared=make_distance(np.concatenate((path1[:,2:],path2[:,:2]),axis=1))\n",
    "    d22_squared=make_distance(np.concatenate((path1[:,2:],path2[:,2:]),axis=1))\n",
    "    res1=d11_squared+d22_squared\n",
    "    res2=d12_squared+d21_squared\n",
    "    return res1*res2/(res1+res2)"
   ]
  },
  {
   "cell_type": "markdown",
   "metadata": {},
   "source": [
    "This metric has the property that it is smaller when the endpoints of the two paths approach one another and it is agnostic about the orientation of the path (as it should be).  Next, we define a kernel as:"
   ]
  },
  {
   "cell_type": "code",
   "execution_count": 77,
   "metadata": {
    "ExecuteTime": {
     "end_time": "2018-10-10T07:13:32.685615Z",
     "start_time": "2018-10-10T07:13:32.682741Z"
    }
   },
   "outputs": [],
   "source": [
    "def S(x1,x2,alpha=.1,sigma=.5):\n",
    "    return alpha*np.exp(-path_distance_squared(x1,x2)/(2*sigma**2))\n"
   ]
  },
  {
   "cell_type": "markdown",
   "metadata": {},
   "source": [
    "Now let's define the important stuff.  We have to do the query one step at a time based upon the data currently available.  This is actually infuriatingly slow, though I haven't really optimzed for speed yet.  (The arcos operation is slow, though this could be done away with if we are willing to settle for Euclidean approximations for the distance.  This would be fine as long as we are in San Francisco and not on an international flight, but it is a bit unsatisfying.  I should also do a better job of constructing the matrix and doing matrix inversin.  Oh well, this will be something to get right on the next pass.)"
   ]
  },
  {
   "cell_type": "code",
   "execution_count": 85,
   "metadata": {
    "ExecuteTime": {
     "end_time": "2018-10-10T07:24:08.555082Z",
     "start_time": "2018-10-10T07:24:08.550658Z"
    }
   },
   "outputs": [],
   "source": [
    "def mu0(x):\n",
    "    return coef*make_distance(x)\n",
    "\n",
    "## 'make_matrix' produces a matrix from the kernel and should be identified with \n",
    "##  Sigma_0 in https://arxiv.org/pdf/1807.02811.pdf.\n",
    "\n",
    "def make_matrix(data_X,S):\n",
    "    matrix=np.zeros((len(data_X),len(data_X)))\n",
    "    for i in range(len(data_X)):\n",
    "        for j in range(len(data_X)):\n",
    "            matrix[i][j]=S(data_X[i],data_X[j])\n",
    "    return matrix\n",
    "\n",
    "def make_vec(S,current_X,X):\n",
    "    array=[]\n",
    "    for x in X:\n",
    "        row=[]\n",
    "        for y in current_X:\n",
    "            row.append(S(x,y))\n",
    "        array.append(np.nan_to_num(np.array(row)))\n",
    "    return np.vstack(array).reshape(len(array),-1)"
   ]
  },
  {
   "cell_type": "markdown",
   "metadata": {},
   "source": [
    "I am going to run this algorithm on a very small dataset because this is very slow.  I hope to improve this soon."
   ]
  },
  {
   "cell_type": "code",
   "execution_count": 86,
   "metadata": {
    "ExecuteTime": {
     "end_time": "2018-10-10T07:27:20.276351Z",
     "start_time": "2018-10-10T07:24:55.667412Z"
    }
   },
   "outputs": [
    {
     "name": "stderr",
     "output_type": "stream",
     "text": [
      "/Users/williamcottrell72/anaconda3/lib/python3.6/site-packages/ipykernel_launcher.py:11: RuntimeWarning: invalid value encountered in arccos\n",
      "  # This is added back by InteractiveShellApp.init_path()\n",
      "/Users/williamcottrell72/anaconda3/lib/python3.6/site-packages/ipykernel_launcher.py:10: RuntimeWarning: invalid value encountered in true_divide\n",
      "  # Remove the CWD from sys.path while we load stuff.\n"
     ]
    }
   ],
   "source": [
    "shuffle=np.random.permutation(len(X))\n",
    "X_rand=X[shuffle][:1000]\n",
    "Y_rand=Y[shuffle][:1000]\n",
    "X_rand_test=X_rand[-100:]\n",
    "Y_rand_test=Y_rand[-100:]\n",
    "full=np.nan_to_num(make_matrix(X_rand,S))\n",
    "\n",
    "\n",
    "rf=RandomForestRegressor()"
   ]
  },
  {
   "cell_type": "code",
   "execution_count": 90,
   "metadata": {
    "ExecuteTime": {
     "end_time": "2018-10-10T07:39:09.627328Z",
     "start_time": "2018-10-10T07:29:08.958164Z"
    }
   },
   "outputs": [
    {
     "name": "stdout",
     "output_type": "stream",
     "text": [
      "0 11\n",
      "1 12\n",
      "2 13\n",
      "3 14\n",
      "4 15\n",
      "5 16\n",
      "6 17\n",
      "7 18\n",
      "8 19\n",
      "9 20\n",
      "10 21\n",
      "11 22\n",
      "12 23\n",
      "13 24\n",
      "14 25\n",
      "15 26\n",
      "16 27\n",
      "17 28\n",
      "18 29\n",
      "19 30\n",
      "20 31\n",
      "21 32\n",
      "22 33\n",
      "23 34\n",
      "24 35\n",
      "25 36\n",
      "26 37\n",
      "27 38\n",
      "28 39\n",
      "29 40\n",
      "30 41\n",
      "31 42\n",
      "32 43\n",
      "33 44\n",
      "34 45\n",
      "35 46\n",
      "36 47\n",
      "37 48\n",
      "38 49\n",
      "39 50\n",
      "40 51\n",
      "41 52\n",
      "42 53\n",
      "43 54\n",
      "44 55\n",
      "45 56\n",
      "46 57\n",
      "47 58\n",
      "48 59\n",
      "49 60\n",
      "50 61\n",
      "51 62\n",
      "52 63\n",
      "53 64\n",
      "54 65\n",
      "55 66\n",
      "56 67\n",
      "57 68\n",
      "58 69\n",
      "59 70\n",
      "60 71\n",
      "61 72\n",
      "62 73\n",
      "63 74\n",
      "64 75\n",
      "65 76\n",
      "66 77\n",
      "67 78\n",
      "68 79\n",
      "69 80\n",
      "70 81\n",
      "71 82\n",
      "72 83\n",
      "73 84\n",
      "74 85\n",
      "75 86\n",
      "76 87\n",
      "77 88\n",
      "78 89\n"
     ]
    }
   ],
   "source": [
    "bayes_score=[]\n",
    "naive_score=[]\n",
    "current_X=X_rand[:10]\n",
    "current_Y=Y_rand[:10]\n",
    "\n",
    "for k in range(200):\n",
    "\n",
    "    matrix=np.nan_to_num(make_matrix(current_X,S))\n",
    "    try:\n",
    "        inv=np.linalg.inv(matrix)\n",
    "    except:\n",
    "        break\n",
    "    vec=make_vec(S,current_X,X_rand)\n",
    "\n",
    "\n",
    "    sigma_squared=[]\n",
    "    for i in range(100):\n",
    "        s2=full[i][i]-np.dot(vec[i],np.dot(inv,vec.T))[i]\n",
    "        sigma_squared.append(s2)\n",
    "\n",
    "    ind=np.argmax(sigma_squared)\n",
    "\n",
    "    current_X=np.nan_to_num(np.concatenate((current_X,X_rand[ind].reshape(1,-1)),axis=0))\n",
    "    current_Y=np.nan_to_num(np.concatenate((current_Y.reshape(-1,1),Y_rand[ind].reshape(1,-1)),axis=0))\n",
    "    naive_current_X=np.nan_to_num(X_rand[:11+k])\n",
    "    naive_current_Y=np.nan_to_num(Y_rand[:11+k])\n",
    "    \n",
    "    rf.fit(current_X,current_Y)\n",
    "    bayes_score.append(rf.score(X_rand_test,Y_rand_test))\n",
    "    \n",
    "    rf.fit(naive_current_X,naive_current_Y)\n",
    "    naive_score.append(rf.score(X_rand_test,Y_rand_test))\n",
    "    \n",
    "    \n",
    "    print(k,len(current_X))"
   ]
  },
  {
   "cell_type": "code",
   "execution_count": 91,
   "metadata": {
    "ExecuteTime": {
     "end_time": "2018-10-10T07:39:56.767665Z",
     "start_time": "2018-10-10T07:39:56.642794Z"
    }
   },
   "outputs": [
    {
     "data": {
      "image/png": "[encoded data removed]",
      "text/plain": [
       "<Figure size 432x288 with 1 Axes>"
      ]
     },
     "metadata": {
      "needs_background": "light"
     },
     "output_type": "display_data"
    }
   ],
   "source": [
    "plt.plot(range(len(bayes_score)),bayes_score,label=\"Bayesian\")\n",
    "plt.plot(range(len(bayes_score)),naive_score,label=\"Random\")\n",
    "plt.xlabel(\"Number of Samples Samples\")\n",
    "plt.ylabel(\"R-squared\")\n",
    "plt.title(\"Comparing Query Methods\")\n",
    "plt.legend()\n",
    "plt.show()"
   ]
  },
  {
   "cell_type": "markdown",
   "metadata": {},
   "source": [
    "This plot is not very conclusive.  All one can say is that the Bayesian or 'Knowledge Gradient' method did not clearly beat random sampling, in fact, it appears to be loosing as the data set gets larger.  This may be because the random sample more closely reflects the distribution of the whole population and that is what's ultimately more important for buliding a good model.  Still, it would be interesting to explore more sophisticated Bayesian methods of sampling using more data and with faster, more optimized algorithms.  This is work in progress."
   ]
  }
 ],
 "metadata": {
  "kernelspec": {
   "display_name": "Python 3",
   "language": "python",
   "name": "python3"
  },
  "language_info": {
   "codemirror_mode": {
    "name": "ipython",
    "version": 3
   },
   "file_extension": ".py",
   "mimetype": "text/x-python",
   "name": "python",
   "nbconvert_exporter": "python",
   "pygments_lexer": "ipython3",
   "version": "3.6.6"
  },
  "varInspector": {
   "cols": {
    "lenName": 16,
    "lenType": 16,
    "lenVar": 40
   },
   "kernels_config": {
    "python": {
     "delete_cmd_postfix": "",
     "delete_cmd_prefix": "del ",
     "library": "var_list.py",
     "varRefreshCmd": "print(var_dic_list())"
    },
    "r": {
     "delete_cmd_postfix": ") ",
     "delete_cmd_prefix": "rm(",
     "library": "var_list.r",
     "varRefreshCmd": "cat(var_dic_list()) "
    }
   },
   "types_to_exclude": [
    "module",
    "function",
    "builtin_function_or_method",
    "instance",
    "_Feature"
   ],
   "window_display": false
  }
 },
 "nbformat": 4,
 "nbformat_minor": 2
}
