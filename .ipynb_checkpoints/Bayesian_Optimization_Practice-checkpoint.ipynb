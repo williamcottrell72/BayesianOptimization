{
 "cells": [
  {
   "cell_type": "code",
   "execution_count": null,
   "metadata": {},
   "outputs": [],
   "source": [
    "from sigopt import Connection\n",
    "conn = Connection(client_token=\"QUIRZXPKOTDLYPQFVKRYMHYIEHUVZQRDGCMWPXQSOLHTNMXA\")"
   ]
  },
  {
   "cell_type": "code",
   "execution_count": 1,
   "metadata": {
    "ExecuteTime": {
     "end_time": "2018-10-08T03:43:35.899122Z",
     "start_time": "2018-10-08T03:43:35.343250Z"
    }
   },
   "outputs": [],
   "source": [
    "import numpy as np\n",
    "import matplotlib.pyplot as plt\n",
    "import random\n",
    "from scipy.optimize import minimize\n",
    "import scipy\n",
    "import bisect\n",
    "from sigopt import Connection\n",
    "%matplotlib inline"
   ]
  },
  {
   "cell_type": "code",
   "execution_count": 2,
   "metadata": {
    "ExecuteTime": {
     "end_time": "2018-10-08T03:43:37.080026Z",
     "start_time": "2018-10-08T03:43:37.075326Z"
    }
   },
   "outputs": [],
   "source": [
    "random=[10*np.random.rand(1)[0] for _ in range(10)]\n",
    "random2=[10*np.random.rand(1)[0] for _ in range(10)]"
   ]
  },
  {
   "cell_type": "code",
   "execution_count": 3,
   "metadata": {
    "ExecuteTime": {
     "end_time": "2018-10-08T03:43:38.214096Z",
     "start_time": "2018-10-08T03:43:38.211260Z"
    }
   },
   "outputs": [],
   "source": [
    "def f(x):\n",
    "    return .01*sum(x+[s*np.sin(t*x+s) for s,t in list(zip(random,random2))])"
   ]
  },
  {
   "cell_type": "code",
   "execution_count": 4,
   "metadata": {
    "ExecuteTime": {
     "end_time": "2018-10-08T03:43:39.674471Z",
     "start_time": "2018-10-08T03:43:39.543689Z"
    }
   },
   "outputs": [
    {
     "data": {
      "image/png": "[encoded data removed]",
      "text/plain": [
       "<Figure size 432x288 with 1 Axes>"
      ]
     },
     "metadata": {
      "needs_background": "light"
     },
     "output_type": "display_data"
    }
   ],
   "source": [
    "mesh=np.linspace(-10,10,2000)\n",
    "plt.plot(mesh,[f(x) for x in mesh])\n",
    "plt.show()"
   ]
  },
  {
   "cell_type": "code",
   "execution_count": 5,
   "metadata": {
    "ExecuteTime": {
     "end_time": "2018-10-08T03:43:44.719066Z",
     "start_time": "2018-10-08T03:43:44.716814Z"
    }
   },
   "outputs": [],
   "source": [
    "# We must pick a kernel.  \n",
    "def S(x1,x2,alpha0=.1):\n",
    "    return alpha0*np.exp(-2*(x1-x2)**2)"
   ]
  },
  {
   "cell_type": "markdown",
   "metadata": {},
   "source": [
    "## Step I:  Determine the 'best guess' function given the kernel and observed data."
   ]
  },
  {
   "cell_type": "markdown",
   "metadata": {},
   "source": [
    "We must assume a prior mean \\mu_0 function to get started.  Since our ultimate interest is in travel times and we are modeling the distance as 'x', our inital guess is \\mu_0(x)=x.  "
   ]
  },
  {
   "cell_type": "code",
   "execution_count": 6,
   "metadata": {
    "ExecuteTime": {
     "end_time": "2018-10-08T03:43:50.006219Z",
     "start_time": "2018-10-08T03:43:50.003208Z"
    }
   },
   "outputs": [],
   "source": [
    "data_X=np.linspace(-10,10,5)\n",
    "data_Y=[f(x) for x in data_X]\n",
    "\n"
   ]
  },
  {
   "cell_type": "code",
   "execution_count": 7,
   "metadata": {
    "ExecuteTime": {
     "end_time": "2018-10-08T03:43:54.145994Z",
     "start_time": "2018-10-08T03:43:54.137163Z"
    }
   },
   "outputs": [],
   "source": [
    "\n",
    "def make_matrix(data_X,S):\n",
    "    matrix=np.zeros((len(data_X),len(data_X)))\n",
    "    for i in range(len(data_X)):\n",
    "        for j in range(len(data_X)):\n",
    "            matrix[i][j]=S(data_X[i],data_X[j])\n",
    "    return matrix\n",
    "\n",
    "def mu0(x):\n",
    "    return .1*x\n",
    "\n",
    "mu0_dct={x:mu0(x) for x in mesh}\n",
    "\n",
    "def approx(dct,data_X):\n",
    "    new={}\n",
    "    key_list=sorted(list(dct.keys()))\n",
    "    for x in data_X:\n",
    "        \n",
    "        index=bisect.bisect_left(key_list,x)\n",
    "#         print(\"#######################################\",flush=True)\n",
    "#         print(len(list(dct.keys())))\n",
    "#         print(index)\n",
    "        try:\n",
    "            new[x]=(dct[key_list[index]]+dct[key_list[index+1]])/2\n",
    "        except:\n",
    "            new[x]=1\n",
    "            \n",
    "    return new\n",
    "\n",
    "\n",
    "def mu(x,data_X,matrix,inv_matrix,mu0_dct):\n",
    "    \n",
    "#     matrix=make_matrix(data_X,S)\n",
    "#     inv_matrix=np.linalg.inv(matrix)\n",
    "    \n",
    "    app=approx(mu0_dct,data_X)\n",
    "    diff=np.array([f(y)-app[y] for y in data_X])\n",
    "    sigma=np.array([S(x,y) for y in data_X])\n",
    "    mat1=np.matmul(inv_matrix,diff)\n",
    "    dot_prod=np.matmul(sigma,mat1)\n",
    "    return dot_prod+mu0_dct[x]\n",
    "\n",
    "def make_mumesh(mu,data_X,matrix,inv_matrix,mu0):\n",
    "    return {x:mu(x,data_X,matrix,inv_matrix,mu0) for x in mesh}\n",
    "\n",
    "\n",
    "def var(x,data_X,matrix,inv_matrix):\n",
    "#     matrix=make_matrix(data_X,S)\n",
    "#     inv_matrix=np.linalg.inv(matrix)\n",
    "    sigma=np.array([S(x,y) for y in data_X])\n",
    "    improvement=np.matmul(sigma,np.matmul(inv_matrix,sigma))\n",
    "    return S(x,x)-improvement\n",
    "\n",
    "def make_varmesh(var,data_X,matrix,inv_matrix):\n",
    "    return {x:var(x,data_X,matrix,inv_matrix) for x in mesh}\n",
    "\n",
    "def varx(x):\n",
    "    return var(x,data_X,matrix,inv_matrix)\n",
    "\n",
    "# def mux(x):\n",
    "#     return mu(x,data_X,mu0)"
   ]
  },
  {
   "cell_type": "code",
   "execution_count": 8,
   "metadata": {
    "ExecuteTime": {
     "end_time": "2018-10-08T03:43:57.502645Z",
     "start_time": "2018-10-08T03:43:56.691151Z"
    }
   },
   "outputs": [
    {
     "data": {
      "image/png": "[encoded data removed]",
      "text/plain": [
       "<Figure size 432x288 with 1 Axes>"
      ]
     },
     "metadata": {
      "needs_background": "light"
     },
     "output_type": "display_data"
    }
   ],
   "source": [
    "matrix=make_matrix(data_X,S)\n",
    "inv_matrix=np.linalg.inv(matrix)\n",
    "\n",
    "mesh=np.linspace(-10,10,2000)\n",
    "plt.plot(mesh,[mu(x,data_X,matrix,inv_matrix,mu0_dct)+varx(x) for x in mesh],'C1')\n",
    "plt.plot(mesh,[mu(x,data_X,matrix,inv_matrix,mu0_dct)-varx(x) for x in mesh],'C1')\n",
    "plt.plot(mesh,[f(x) for x in mesh])\n",
    "plt.show()"
   ]
  },
  {
   "cell_type": "code",
   "execution_count": 9,
   "metadata": {
    "ExecuteTime": {
     "end_time": "2018-10-08T03:44:01.889304Z",
     "start_time": "2018-10-08T03:44:01.886575Z"
    }
   },
   "outputs": [],
   "source": [
    "data_X=np.append(data_X,np.array([-7]))"
   ]
  },
  {
   "cell_type": "code",
   "execution_count": 10,
   "metadata": {
    "ExecuteTime": {
     "end_time": "2018-10-08T03:44:02.352642Z",
     "start_time": "2018-10-08T03:44:02.348661Z"
    }
   },
   "outputs": [
    {
     "data": {
      "text/plain": [
       "-10.0"
      ]
     },
     "execution_count": 10,
     "metadata": {},
     "output_type": "execute_result"
    }
   ],
   "source": [
    "data_X[0]"
   ]
  },
  {
   "cell_type": "code",
   "execution_count": 11,
   "metadata": {
    "ExecuteTime": {
     "end_time": "2018-10-08T03:44:04.618839Z",
     "start_time": "2018-10-08T03:44:04.612700Z"
    }
   },
   "outputs": [],
   "source": [
    "def function_approximator(f,S,data_X,mu0_dct,N):\n",
    "    matrix=make_matrix(data_X,S)\n",
    "    inv_matrix=np.linalg.inv(matrix)\n",
    "    dX=[data_X]\n",
    "    data_Y=[f(x) for x in data_X]\n",
    "    dY=[data_Y]\n",
    "    varmesh=make_varmesh(var,data_X,matrix,inv_matrix)\n",
    "    vrs=[varmesh]\n",
    "    mus=[make_mumesh(mu,data_X,matrix,inv_matrix,mu0_dct)]\n",
    "    \n",
    "    for i in range(N):\n",
    "        x_new=mesh[np.argmax([np.abs(varmesh[x]) for x in mesh])]\n",
    "        data_X=np.append(data_X,np.array([x_new]))\n",
    "        data_Y=np.append(data_Y,np.array([f(x_new)]))\n",
    "        bla=data_X[0]\n",
    "\n",
    "        dX.append(data_X)\n",
    "        dY.append(data_Y)\n",
    "        \n",
    "        matrix=make_matrix(data_X,S)\n",
    "        inv_matrix=np.linalg.inv(matrix)\n",
    "\n",
    "        mu_mesh=make_mumesh(mu,data_X,matrix,inv_matrix,mu0_dct)\n",
    "        varmesh=make_varmesh(var,data_X,matrix,inv_matrix)\n",
    "#         print(mu_mesh)\n",
    "        mus.append(mu_mesh)\n",
    "        vrs.append(varmesh)\n",
    "\n",
    "        mu0_dct=mu_mesh\n",
    "        \n",
    "    return mus, dX, dY, vrs\n",
    "\n",
    "\n",
    "    \n",
    "    \n",
    "    \n",
    "   \n",
    "\n",
    "    "
   ]
  },
  {
   "cell_type": "code",
   "execution_count": 14,
   "metadata": {
    "ExecuteTime": {
     "end_time": "2018-10-08T03:44:23.206428Z",
     "start_time": "2018-10-08T03:44:19.542260Z"
    }
   },
   "outputs": [],
   "source": [
    "mus,dX,dY,vrs=function_approximator(f,S,data_X,mu0_dct,6)"
   ]
  },
  {
   "cell_type": "code",
   "execution_count": 15,
   "metadata": {
    "ExecuteTime": {
     "end_time": "2018-10-08T03:44:24.001115Z",
     "start_time": "2018-10-08T03:44:23.997974Z"
    }
   },
   "outputs": [],
   "source": [
    "def make_fun(mus):\n",
    "    Xs=[]\n",
    "    Ys=[]\n",
    "    for i in range(len(mus)):\n",
    "        x=list(mus[i].keys())\n",
    "        y=[mus[i][p] for p in x]\n",
    "        Xs.append(x)\n",
    "        Ys.append(y)\n",
    "    return Xs,Ys"
   ]
  },
  {
   "cell_type": "code",
   "execution_count": 17,
   "metadata": {
    "ExecuteTime": {
     "end_time": "2018-10-08T03:44:26.257385Z",
     "start_time": "2018-10-08T03:44:26.253045Z"
    }
   },
   "outputs": [],
   "source": [
    "Xs,Ys=make_fun(mus)"
   ]
  },
  {
   "cell_type": "code",
   "execution_count": 18,
   "metadata": {
    "ExecuteTime": {
     "end_time": "2018-10-08T03:44:26.263150Z",
     "start_time": "2018-10-08T03:44:26.259554Z"
    }
   },
   "outputs": [
    {
     "data": {
      "text/plain": [
       "7"
      ]
     },
     "execution_count": 18,
     "metadata": {},
     "output_type": "execute_result"
    }
   ],
   "source": [
    "len(mus)"
   ]
  },
  {
   "cell_type": "code",
   "execution_count": 19,
   "metadata": {
    "ExecuteTime": {
     "end_time": "2018-10-08T03:44:29.206907Z",
     "start_time": "2018-10-08T03:44:29.199757Z"
    }
   },
   "outputs": [
    {
     "ename": "NameError",
     "evalue": "name 'X2s' is not defined",
     "output_type": "error",
     "traceback": [
      "\u001b[0;31m---------------------------------------------------------------------------\u001b[0m",
      "\u001b[0;31mNameError\u001b[0m                                 Traceback (most recent call last)",
      "\u001b[0;32m<ipython-input-19-ba8d2391e449>\u001b[0m in \u001b[0;36m<module>\u001b[0;34m()\u001b[0m\n\u001b[0;32m----> 1\u001b[0;31m \u001b[0mlen\u001b[0m\u001b[0;34m(\u001b[0m\u001b[0mX2s\u001b[0m\u001b[0;34m)\u001b[0m\u001b[0;34m\u001b[0m\u001b[0m\n\u001b[0m",
      "\u001b[0;31mNameError\u001b[0m: name 'X2s' is not defined"
     ]
    }
   ],
   "source": [
    "len(X2s)"
   ]
  },
  {
   "cell_type": "code",
   "execution_count": 20,
   "metadata": {
    "ExecuteTime": {
     "end_time": "2018-10-08T03:44:37.446283Z",
     "start_time": "2018-10-08T03:44:37.297658Z"
    }
   },
   "outputs": [
    {
     "data": {
      "text/plain": [
       "[]"
      ]
     },
     "execution_count": 20,
     "metadata": {},
     "output_type": "execute_result"
    },
    {
     "data": {
      "image/png": "[encoded data removed]",
      "text/plain": [
       "<Figure size 432x288 with 1 Axes>"
      ]
     },
     "metadata": {
      "needs_background": "light"
     },
     "output_type": "display_data"
    }
   ],
   "source": [
    "plt.plot(Xs[0],Ys[0],'C0')\n",
    "plt.plot(Xs[1],Ys[1],'C1')\n",
    "plt.plot(Xs[4],Ys[4],'C2')\n",
    "plt.plot(mesh,[f(x) for x in mesh],'C8')\n",
    "plt.plot()"
   ]
  },
  {
   "cell_type": "code",
   "execution_count": 21,
   "metadata": {
    "ExecuteTime": {
     "end_time": "2018-10-08T03:44:43.864346Z",
     "start_time": "2018-10-08T03:44:43.750892Z"
    }
   },
   "outputs": [
    {
     "data": {
      "text/plain": [
       "[]"
      ]
     },
     "execution_count": 21,
     "metadata": {},
     "output_type": "execute_result"
    },
    {
     "data": {
      "image/png": "[encoded data removed]",
      "text/plain": [
       "<Figure size 432x288 with 1 Axes>"
      ]
     },
     "metadata": {
      "needs_background": "light"
     },
     "output_type": "display_data"
    }
   ],
   "source": [
    "for i in range(len(vrs)):\n",
    "    plt.plot(Xs[i],Ys[i])\n",
    "# plt.plot(mesh,[f(x) for x in mesh])\n",
    "plt.plot()"
   ]
  },
  {
   "cell_type": "code",
   "execution_count": 22,
   "metadata": {
    "ExecuteTime": {
     "end_time": "2018-10-08T03:44:57.388519Z",
     "start_time": "2018-10-08T03:44:57.235816Z"
    }
   },
   "outputs": [
    {
     "data": {
      "text/plain": [
       "[]"
      ]
     },
     "execution_count": 22,
     "metadata": {},
     "output_type": "execute_result"
    },
    {
     "data": {
      "image/png": "[encoded data removed]",
      "text/plain": [
       "<Figure size 432x288 with 1 Axes>"
      ]
     },
     "metadata": {
      "needs_background": "light"
     },
     "output_type": "display_data"
    }
   ],
   "source": [
    "for i in range(len(mus)):\n",
    "    plt.plot(Xs[i],Ys[i])\n",
    "plt.plot(mesh,[f(x) for x in mesh])\n",
    "plt.plot()"
   ]
  },
  {
   "cell_type": "code",
   "execution_count": 23,
   "metadata": {
    "ExecuteTime": {
     "end_time": "2018-10-08T03:45:06.228860Z",
     "start_time": "2018-10-08T03:45:06.219763Z"
    }
   },
   "outputs": [
    {
     "ename": "NameError",
     "evalue": "name 'sample' is not defined",
     "output_type": "error",
     "traceback": [
      "\u001b[0;31m---------------------------------------------------------------------------\u001b[0m",
      "\u001b[0;31mNameError\u001b[0m                                 Traceback (most recent call last)",
      "\u001b[0;32m<ipython-input-23-14987d111961>\u001b[0m in \u001b[0;36m<module>\u001b[0;34m()\u001b[0m\n\u001b[0;32m----> 1\u001b[0;31m \u001b[0mplt\u001b[0m\u001b[0;34m.\u001b[0m\u001b[0mplot\u001b[0m\u001b[0;34m(\u001b[0m\u001b[0msample\u001b[0m\u001b[0;34m,\u001b[0m\u001b[0;34m[\u001b[0m\u001b[0mf\u001b[0m\u001b[0;34m(\u001b[0m\u001b[0mx\u001b[0m\u001b[0;34m)\u001b[0m \u001b[0;32mfor\u001b[0m \u001b[0mx\u001b[0m \u001b[0;32min\u001b[0m \u001b[0msample\u001b[0m\u001b[0;34m]\u001b[0m\u001b[0;34m)\u001b[0m\u001b[0;34m\u001b[0m\u001b[0m\n\u001b[0m\u001b[1;32m      2\u001b[0m \u001b[0;34m\u001b[0m\u001b[0m\n\u001b[1;32m      3\u001b[0m \u001b[0mplt\u001b[0m\u001b[0;34m.\u001b[0m\u001b[0mplot\u001b[0m\u001b[0;34m(\u001b[0m\u001b[0meval_set\u001b[0m\u001b[0;34m,\u001b[0m\u001b[0;34m[\u001b[0m\u001b[0mmus\u001b[0m\u001b[0;34m[\u001b[0m\u001b[0;36m0\u001b[0m\u001b[0;34m]\u001b[0m\u001b[0;34m(\u001b[0m\u001b[0mx\u001b[0m\u001b[0;34m)\u001b[0m\u001b[0;34m+\u001b[0m\u001b[0mvrs\u001b[0m\u001b[0;34m[\u001b[0m\u001b[0;36m0\u001b[0m\u001b[0;34m]\u001b[0m\u001b[0;34m(\u001b[0m\u001b[0mx\u001b[0m\u001b[0;34m)\u001b[0m \u001b[0;32mfor\u001b[0m \u001b[0mx\u001b[0m \u001b[0;32min\u001b[0m \u001b[0meval_set\u001b[0m\u001b[0;34m]\u001b[0m\u001b[0;34m,\u001b[0m\u001b[0;34m'C2'\u001b[0m\u001b[0;34m)\u001b[0m\u001b[0;34m\u001b[0m\u001b[0m\n\u001b[1;32m      4\u001b[0m \u001b[0mplt\u001b[0m\u001b[0;34m.\u001b[0m\u001b[0mplot\u001b[0m\u001b[0;34m(\u001b[0m\u001b[0meval_set\u001b[0m\u001b[0;34m,\u001b[0m\u001b[0;34m[\u001b[0m\u001b[0mmus\u001b[0m\u001b[0;34m[\u001b[0m\u001b[0;36m0\u001b[0m\u001b[0;34m]\u001b[0m\u001b[0;34m(\u001b[0m\u001b[0mx\u001b[0m\u001b[0;34m)\u001b[0m\u001b[0;34m-\u001b[0m\u001b[0mvrs\u001b[0m\u001b[0;34m[\u001b[0m\u001b[0;36m0\u001b[0m\u001b[0;34m]\u001b[0m\u001b[0;34m(\u001b[0m\u001b[0mx\u001b[0m\u001b[0;34m)\u001b[0m \u001b[0;32mfor\u001b[0m \u001b[0mx\u001b[0m \u001b[0;32min\u001b[0m \u001b[0meval_set\u001b[0m\u001b[0;34m]\u001b[0m\u001b[0;34m,\u001b[0m\u001b[0;34m'C2'\u001b[0m\u001b[0;34m)\u001b[0m\u001b[0;34m\u001b[0m\u001b[0m\n\u001b[1;32m      5\u001b[0m \u001b[0mplt\u001b[0m\u001b[0;34m.\u001b[0m\u001b[0mplot\u001b[0m\u001b[0;34m(\u001b[0m\u001b[0msample\u001b[0m\u001b[0;34m,\u001b[0m \u001b[0;34m[\u001b[0m\u001b[0mmus\u001b[0m\u001b[0;34m[\u001b[0m\u001b[0;36m0\u001b[0m\u001b[0;34m]\u001b[0m\u001b[0;34m(\u001b[0m\u001b[0mx\u001b[0m\u001b[0;34m)\u001b[0m \u001b[0;32mfor\u001b[0m \u001b[0mx\u001b[0m \u001b[0;32min\u001b[0m \u001b[0msample\u001b[0m\u001b[0;34m]\u001b[0m\u001b[0;34m)\u001b[0m\u001b[0;34m\u001b[0m\u001b[0m\n",
      "\u001b[0;31mNameError\u001b[0m: name 'sample' is not defined"
     ]
    }
   ],
   "source": [
    "plt.plot(sample,[f(x) for x in sample])\n",
    "\n",
    "plt.plot(eval_set,[mus[0](x)+vrs[0](x) for x in eval_set],'C2')\n",
    "plt.plot(eval_set,[mus[0](x)-vrs[0](x) for x in eval_set],'C2')\n",
    "plt.plot(sample, [mus[0](x) for x in sample])\n",
    "plt.show()"
   ]
  },
  {
   "cell_type": "code",
   "execution_count": 24,
   "metadata": {
    "ExecuteTime": {
     "end_time": "2018-10-08T03:45:15.152363Z",
     "start_time": "2018-10-08T03:45:15.144841Z"
    }
   },
   "outputs": [
    {
     "ename": "NameError",
     "evalue": "name 'eval_set' is not defined",
     "output_type": "error",
     "traceback": [
      "\u001b[0;31m---------------------------------------------------------------------------\u001b[0m",
      "\u001b[0;31mNameError\u001b[0m                                 Traceback (most recent call last)",
      "\u001b[0;32m<ipython-input-24-737eba2d793b>\u001b[0m in \u001b[0;36m<module>\u001b[0;34m()\u001b[0m\n\u001b[0;32m----> 1\u001b[0;31m \u001b[0mplt\u001b[0m\u001b[0;34m.\u001b[0m\u001b[0mplot\u001b[0m\u001b[0;34m(\u001b[0m\u001b[0meval_set\u001b[0m\u001b[0;34m,\u001b[0m\u001b[0;34m[\u001b[0m\u001b[0mvrs\u001b[0m\u001b[0;34m[\u001b[0m\u001b[0;36m0\u001b[0m\u001b[0;34m]\u001b[0m\u001b[0;34m(\u001b[0m\u001b[0mx\u001b[0m\u001b[0;34m)\u001b[0m \u001b[0;32mfor\u001b[0m \u001b[0mx\u001b[0m \u001b[0;32min\u001b[0m \u001b[0meval_set\u001b[0m\u001b[0;34m]\u001b[0m\u001b[0;34m,\u001b[0m\u001b[0;34m'C2'\u001b[0m\u001b[0;34m)\u001b[0m\u001b[0;34m\u001b[0m\u001b[0m\n\u001b[0m\u001b[1;32m      2\u001b[0m \u001b[0mplt\u001b[0m\u001b[0;34m.\u001b[0m\u001b[0mshow\u001b[0m\u001b[0;34m(\u001b[0m\u001b[0;34m)\u001b[0m\u001b[0;34m\u001b[0m\u001b[0m\n",
      "\u001b[0;31mNameError\u001b[0m: name 'eval_set' is not defined"
     ]
    }
   ],
   "source": [
    "plt.plot(eval_set,[vrs[0](x) for x in eval_set],'C2')\n",
    "plt.show()"
   ]
  },
  {
   "cell_type": "code",
   "execution_count": 25,
   "metadata": {
    "ExecuteTime": {
     "end_time": "2018-10-08T03:45:19.954269Z",
     "start_time": "2018-10-08T03:45:19.951343Z"
    }
   },
   "outputs": [],
   "source": [
    "def test0(x):\n",
    "    return x*2\n",
    "\n",
    "def test(x,m):\n",
    "    return m(x)*2+x*m(x)\n",
    "\n",
    "hist=[test0]\n",
    "def new(x):\n",
    "    return test(x,hist[-1])"
   ]
  },
  {
   "cell_type": "code",
   "execution_count": 26,
   "metadata": {
    "ExecuteTime": {
     "end_time": "2018-10-08T03:45:21.173747Z",
     "start_time": "2018-10-08T03:45:21.170804Z"
    }
   },
   "outputs": [],
   "source": [
    "hist=[test0]\n",
    "for i in range(10):\n",
    "    def new(x):\n",
    "        return test(x,hist[-1])\n",
    "    hist.append(new)"
   ]
  },
  {
   "cell_type": "code",
   "execution_count": 27,
   "metadata": {
    "ExecuteTime": {
     "end_time": "2018-10-08T03:45:26.667424Z",
     "start_time": "2018-10-08T03:45:22.370938Z"
    }
   },
   "outputs": [
    {
     "ename": "RecursionError",
     "evalue": "maximum recursion depth exceeded",
     "output_type": "error",
     "traceback": [
      "\u001b[0;31m---------------------------------------------------------------------------\u001b[0m",
      "\u001b[0;31mRecursionError\u001b[0m                            Traceback (most recent call last)",
      "\u001b[0;32m<ipython-input-27-f60d3fd562c4>\u001b[0m in \u001b[0;36m<module>\u001b[0;34m()\u001b[0m\n\u001b[0;32m----> 1\u001b[0;31m \u001b[0mhist\u001b[0m\u001b[0;34m[\u001b[0m\u001b[0;36m1\u001b[0m\u001b[0;34m]\u001b[0m\u001b[0;34m(\u001b[0m\u001b[0;36m1\u001b[0m\u001b[0;34m)\u001b[0m\u001b[0;34m\u001b[0m\u001b[0m\n\u001b[0m",
      "\u001b[0;32m<ipython-input-26-6f6b5544c48f>\u001b[0m in \u001b[0;36mnew\u001b[0;34m(x)\u001b[0m\n\u001b[1;32m      2\u001b[0m \u001b[0;32mfor\u001b[0m \u001b[0mi\u001b[0m \u001b[0;32min\u001b[0m \u001b[0mrange\u001b[0m\u001b[0;34m(\u001b[0m\u001b[0;36m10\u001b[0m\u001b[0;34m)\u001b[0m\u001b[0;34m:\u001b[0m\u001b[0;34m\u001b[0m\u001b[0m\n\u001b[1;32m      3\u001b[0m     \u001b[0;32mdef\u001b[0m \u001b[0mnew\u001b[0m\u001b[0;34m(\u001b[0m\u001b[0mx\u001b[0m\u001b[0;34m)\u001b[0m\u001b[0;34m:\u001b[0m\u001b[0;34m\u001b[0m\u001b[0m\n\u001b[0;32m----> 4\u001b[0;31m         \u001b[0;32mreturn\u001b[0m \u001b[0mtest\u001b[0m\u001b[0;34m(\u001b[0m\u001b[0mx\u001b[0m\u001b[0;34m,\u001b[0m\u001b[0mhist\u001b[0m\u001b[0;34m[\u001b[0m\u001b[0;34m-\u001b[0m\u001b[0;36m1\u001b[0m\u001b[0;34m]\u001b[0m\u001b[0;34m)\u001b[0m\u001b[0;34m\u001b[0m\u001b[0m\n\u001b[0m\u001b[1;32m      5\u001b[0m     \u001b[0mhist\u001b[0m\u001b[0;34m.\u001b[0m\u001b[0mappend\u001b[0m\u001b[0;34m(\u001b[0m\u001b[0mnew\u001b[0m\u001b[0;34m)\u001b[0m\u001b[0;34m\u001b[0m\u001b[0m\n",
      "\u001b[0;32m<ipython-input-25-c60c66785e7b>\u001b[0m in \u001b[0;36mtest\u001b[0;34m(x, m)\u001b[0m\n\u001b[1;32m      3\u001b[0m \u001b[0;34m\u001b[0m\u001b[0m\n\u001b[1;32m      4\u001b[0m \u001b[0;32mdef\u001b[0m \u001b[0mtest\u001b[0m\u001b[0;34m(\u001b[0m\u001b[0mx\u001b[0m\u001b[0;34m,\u001b[0m\u001b[0mm\u001b[0m\u001b[0;34m)\u001b[0m\u001b[0;34m:\u001b[0m\u001b[0;34m\u001b[0m\u001b[0m\n\u001b[0;32m----> 5\u001b[0;31m     \u001b[0;32mreturn\u001b[0m \u001b[0mm\u001b[0m\u001b[0;34m(\u001b[0m\u001b[0mx\u001b[0m\u001b[0;34m)\u001b[0m\u001b[0;34m*\u001b[0m\u001b[0;36m2\u001b[0m\u001b[0;34m+\u001b[0m\u001b[0mx\u001b[0m\u001b[0;34m*\u001b[0m\u001b[0mm\u001b[0m\u001b[0;34m(\u001b[0m\u001b[0mx\u001b[0m\u001b[0;34m)\u001b[0m\u001b[0;34m\u001b[0m\u001b[0m\n\u001b[0m\u001b[1;32m      6\u001b[0m \u001b[0;34m\u001b[0m\u001b[0m\n\u001b[1;32m      7\u001b[0m \u001b[0mhist\u001b[0m\u001b[0;34m=\u001b[0m\u001b[0;34m[\u001b[0m\u001b[0mtest0\u001b[0m\u001b[0;34m]\u001b[0m\u001b[0;34m\u001b[0m\u001b[0m\n",
      "... last 2 frames repeated, from the frame below ...\n",
      "\u001b[0;32m<ipython-input-26-6f6b5544c48f>\u001b[0m in \u001b[0;36mnew\u001b[0;34m(x)\u001b[0m\n\u001b[1;32m      2\u001b[0m \u001b[0;32mfor\u001b[0m \u001b[0mi\u001b[0m \u001b[0;32min\u001b[0m \u001b[0mrange\u001b[0m\u001b[0;34m(\u001b[0m\u001b[0;36m10\u001b[0m\u001b[0;34m)\u001b[0m\u001b[0;34m:\u001b[0m\u001b[0;34m\u001b[0m\u001b[0m\n\u001b[1;32m      3\u001b[0m     \u001b[0;32mdef\u001b[0m \u001b[0mnew\u001b[0m\u001b[0;34m(\u001b[0m\u001b[0mx\u001b[0m\u001b[0;34m)\u001b[0m\u001b[0;34m:\u001b[0m\u001b[0;34m\u001b[0m\u001b[0m\n\u001b[0;32m----> 4\u001b[0;31m         \u001b[0;32mreturn\u001b[0m \u001b[0mtest\u001b[0m\u001b[0;34m(\u001b[0m\u001b[0mx\u001b[0m\u001b[0;34m,\u001b[0m\u001b[0mhist\u001b[0m\u001b[0;34m[\u001b[0m\u001b[0;34m-\u001b[0m\u001b[0;36m1\u001b[0m\u001b[0;34m]\u001b[0m\u001b[0;34m)\u001b[0m\u001b[0;34m\u001b[0m\u001b[0m\n\u001b[0m\u001b[1;32m      5\u001b[0m     \u001b[0mhist\u001b[0m\u001b[0;34m.\u001b[0m\u001b[0mappend\u001b[0m\u001b[0;34m(\u001b[0m\u001b[0mnew\u001b[0m\u001b[0;34m)\u001b[0m\u001b[0;34m\u001b[0m\u001b[0m\n",
      "\u001b[0;31mRecursionError\u001b[0m: maximum recursion depth exceeded"
     ]
    }
   ],
   "source": [
    "hist[1](1)"
   ]
  },
  {
   "cell_type": "code",
   "execution_count": null,
   "metadata": {},
   "outputs": [],
   "source": []
  }
 ],
 "metadata": {
  "kernelspec": {
   "display_name": "Python 3",
   "language": "python",
   "name": "python3"
  },
  "language_info": {
   "codemirror_mode": {
    "name": "ipython",
    "version": 3
   },
   "file_extension": ".py",
   "mimetype": "text/x-python",
   "name": "python",
   "nbconvert_exporter": "python",
   "pygments_lexer": "ipython3",
   "version": "3.6.6"
  },
  "varInspector": {
   "cols": {
    "lenName": 16,
    "lenType": 16,
    "lenVar": 40
   },
   "kernels_config": {
    "python": {
     "delete_cmd_postfix": "",
     "delete_cmd_prefix": "del ",
     "library": "var_list.py",
     "varRefreshCmd": "print(var_dic_list())"
    },
    "r": {
     "delete_cmd_postfix": ") ",
     "delete_cmd_prefix": "rm(",
     "library": "var_list.r",
     "varRefreshCmd": "cat(var_dic_list()) "
    }
   },
   "types_to_exclude": [
    "module",
    "function",
    "builtin_function_or_method",
    "instance",
    "_Feature"
   ],
   "window_display": false
  }
 },
 "nbformat": 4,
 "nbformat_minor": 2
}
