{
 "cells": [
  {
   "cell_type": "code",
   "execution_count": 140,
   "metadata": {
    "ExecuteTime": {
     "end_time": "2018-10-08T17:27:05.910834Z",
     "start_time": "2018-10-08T17:27:05.893253Z"
    }
   },
   "outputs": [],
   "source": [
    "import pickle as pkl\n",
    "from sklearn.model_selection import train_test_split\n",
    "from sklearn.ensemble import RandomForestRegressor\n",
    "from sklearn.ensemble import GradientBoostingRegressor\n",
    "from sklearn.linear_model import ElasticNet\n",
    "from sklearn.model_selection import GridSearchCV\n",
    "import random\n",
    "import math\n",
    "import time\n",
    "import warnings\n",
    "warnings.filterwarnings('ignore')\n",
    "import matplotlib.pyplot as plt\n",
    "%matplotlib inline\n",
    "travel_times=pkl.load(open('/Users/williamcottrell72/MyGit/TravelApp/good_data/San_Francisco/travel_times.pkl','rb'))\n",
    "site_index=pkl.load(open('/Users/williamcottrell72/MyGit/TravelApp/good_data/San_Francisco/site_index.pkl','rb'))\n",
    "final_attractions=pkl.load(open('/Users/williamcottrell72/MyGit/TravelApp/good_data/San_Francisco/final_attractions_dict.pkl','rb'))"
   ]
  },
  {
   "cell_type": "code",
   "execution_count": 2,
   "metadata": {
    "ExecuteTime": {
     "end_time": "2018-10-08T05:32:52.918313Z",
     "start_time": "2018-10-08T05:32:51.518887Z"
    }
   },
   "outputs": [],
   "source": [
    "coords={}\n",
    "for x in list(final_attractions.keys()):\n",
    "    coords[x]=final_attractions[x][0]['geometry']['location']\n",
    "def make_data(site_index,coords):\n",
    "    X=[]\n",
    "    Y=[]\n",
    "    for i in range(len(site_index)):\n",
    "        for j in range(len(site_index)):\n",
    "            origin=site_index[i]\n",
    "            destination=site_index[j]\n",
    "            var=np.array([coords[origin]['lat'],coords[origin]['lng'],coords[destination]['lat'],coords[destination]['lng']])\n",
    "            X.append(var)\n",
    "            Y.append(travel_times[i,j])\n",
    "    return np.vstack(X),np.array(Y)\n",
    "\n",
    "X,Y = make_data(site_index,coords)"
   ]
  },
  {
   "cell_type": "code",
   "execution_count": 4,
   "metadata": {
    "ExecuteTime": {
     "end_time": "2018-10-08T05:33:02.317959Z",
     "start_time": "2018-10-08T05:33:02.314334Z"
    }
   },
   "outputs": [],
   "source": [
    "def make_distance(X_train):\n",
    "    p1=X_train[:,:2]\n",
    "    p2=X_train[:,2:]\n",
    "    x1=np.cos(p1[:,0]*math.pi/180)*np.cos(p1[:,1]*math.pi/180)\n",
    "    x2=np.cos(p2[:,0]*math.pi/180)*np.cos(p2[:,1]*math.pi/180)\n",
    "    y1=np.cos(p1[:,0]*math.pi/180)*np.sin(p1[:,1]*math.pi/180)\n",
    "    y2=np.cos(p2[:,0]*math.pi/180)*np.sin(p2[:,1]*math.pi/180)\n",
    "    z1=np.sin(p1[:,0]*math.pi/180)\n",
    "    z2=np.sin(p2[:,0]*math.pi/180)\n",
    "    cosangle=x1*x2+y1*y2+z1*z2\n",
    "    distance=3959*np.arccos(cosangle) \n",
    "#   The factor above accounts for the radius of the earth in miles\n",
    "    return distance"
   ]
  },
  {
   "cell_type": "code",
   "execution_count": 5,
   "metadata": {
    "ExecuteTime": {
     "end_time": "2018-10-08T05:33:03.434586Z",
     "start_time": "2018-10-08T05:33:02.705828Z"
    }
   },
   "outputs": [
    {
     "name": "stderr",
     "output_type": "stream",
     "text": [
      "/Users/williamcottrell72/anaconda3/lib/python3.6/site-packages/ipykernel_launcher.py:11: RuntimeWarning: invalid value encountered in arccos\n",
      "  # This is added back by InteractiveShellApp.init_path()\n"
     ]
    }
   ],
   "source": [
    "distance=make_distance(X)\n",
    "mask=~np.isnan(distance)\n",
    "good_distance=distance[mask].reshape((sum(mask),-1))"
   ]
  },
  {
   "cell_type": "markdown",
   "metadata": {},
   "source": [
    "Let's first start with a baseline prior by assuming that the travel time is linearly proportional to the distance.  We thus need to do a linear regression between travel time and distance."
   ]
  },
  {
   "cell_type": "code",
   "execution_count": 6,
   "metadata": {
    "ExecuteTime": {
     "end_time": "2018-10-08T05:33:06.103308Z",
     "start_time": "2018-10-08T05:33:06.077237Z"
    }
   },
   "outputs": [
    {
     "data": {
      "text/plain": [
       "2.0248659076834494"
      ]
     },
     "execution_count": 6,
     "metadata": {},
     "output_type": "execute_result"
    }
   ],
   "source": [
    "en=ElasticNet(alpha=.01)\n",
    "en.fit(good_distance,Y[mask])\n",
    "coef=en.coef_[0]\n",
    "coef"
   ]
  },
  {
   "cell_type": "markdown",
   "metadata": {},
   "source": [
    "This means, that on average drivers are taking 2.02 min/mile, or about 30mph.  Seems reasonable.  This will be our baseline model."
   ]
  },
  {
   "cell_type": "markdown",
   "metadata": {},
   "source": [
    "## Kernel"
   ]
  },
  {
   "cell_type": "markdown",
   "metadata": {},
   "source": [
    "In choosing a kernel we are asked to estimate how much one travel time should influence our knowledge of a second travel time.  It is reasonable to assume that if two places are within walking distance, e.g., half a mile, then the travel times are highly correlated.  We thus want something like a guassian kernel with a half-mile standard deviation.  First, we need to form a good notion of distance between two paths.  For the sake of argument, I'll use the following:"
   ]
  },
  {
   "cell_type": "code",
   "execution_count": 30,
   "metadata": {
    "ExecuteTime": {
     "end_time": "2018-10-08T14:23:51.214230Z",
     "start_time": "2018-10-08T14:23:51.210405Z"
    }
   },
   "outputs": [],
   "source": [
    "def path_distance_squared(path1,path2):\n",
    "    path1=path1.reshape(-1,4)\n",
    "    path2=path2.reshape(-1,4)\n",
    "    d11_squared=make_distance(np.concatenate((path1[:,:2],path2[:,:2]),axis=1))\n",
    "    d12_squared=make_distance(np.concatenate((path1[:,:2],path2[:,2:]),axis=1))\n",
    "    d21_squared=make_distance(np.concatenate((path1[:,2:],path2[:,:2]),axis=1))\n",
    "    d22_squared=make_distance(np.concatenate((path1[:,2:],path2[:,2:]),axis=1))\n",
    "    res1=d11_squared+d22_squared\n",
    "    res2=d12_squared+d21_squared\n",
    "    return res1*res2/(res1+res2)"
   ]
  },
  {
   "cell_type": "code",
   "execution_count": 28,
   "metadata": {
    "ExecuteTime": {
     "end_time": "2018-10-08T14:23:24.328102Z",
     "start_time": "2018-10-08T14:23:24.325236Z"
    }
   },
   "outputs": [],
   "source": [
    "path1=current_X[4]\n",
    "path2=current_X[5]\n",
    "path1=path1.reshape(-1,4)\n",
    "path2=path2.reshape(len(path2),-1)"
   ]
  },
  {
   "cell_type": "code",
   "execution_count": 29,
   "metadata": {
    "ExecuteTime": {
     "end_time": "2018-10-08T14:23:26.287844Z",
     "start_time": "2018-10-08T14:23:26.284105Z"
    }
   },
   "outputs": [
    {
     "data": {
      "text/plain": [
       "1"
      ]
     },
     "execution_count": 29,
     "metadata": {},
     "output_type": "execute_result"
    }
   ],
   "source": [
    "len(path1)"
   ]
  },
  {
   "cell_type": "code",
   "execution_count": 25,
   "metadata": {
    "ExecuteTime": {
     "end_time": "2018-10-08T14:22:31.712775Z",
     "start_time": "2018-10-08T14:22:31.708901Z"
    }
   },
   "outputs": [
    {
     "data": {
      "text/plain": [
       "array([[  37.7401918, -122.4310237]])"
      ]
     },
     "execution_count": 25,
     "metadata": {},
     "output_type": "execute_result"
    }
   ],
   "source": [
    "path1.reshape()[:,:2]"
   ]
  },
  {
   "cell_type": "markdown",
   "metadata": {
    "ExecuteTime": {
     "end_time": "2018-10-08T04:35:03.846910Z",
     "start_time": "2018-10-08T04:35:03.842393Z"
    }
   },
   "source": [
    "This metric has the benefit of being agnostic regarding the orientation of the two endpoints.  Now we can define the kernel as:"
   ]
  },
  {
   "cell_type": "code",
   "execution_count": 8,
   "metadata": {
    "ExecuteTime": {
     "end_time": "2018-10-08T05:33:12.389105Z",
     "start_time": "2018-10-08T05:33:12.386222Z"
    }
   },
   "outputs": [],
   "source": [
    "def S(x1,x2,alpha=.1,sigma=.5):\n",
    "    return alpha*np.exp(-path_distance_squared(x1,x2)/(2*sigma**2))\n"
   ]
  },
  {
   "cell_type": "markdown",
   "metadata": {},
   "source": [
    "Now let's define the important stuff...."
   ]
  },
  {
   "cell_type": "code",
   "execution_count": 86,
   "metadata": {
    "ExecuteTime": {
     "end_time": "2018-10-08T05:17:53.749137Z",
     "start_time": "2018-10-08T05:17:53.739319Z"
    }
   },
   "outputs": [],
   "source": [
    "# l1=zip(X,range(len(X)))\n",
    "l2=zip(range(len(X[:1000])),X[:1000])\n",
    "# dct1=dict(l1)\n",
    "dct2=dict(l2)"
   ]
  },
  {
   "cell_type": "code",
   "execution_count": null,
   "metadata": {
    "ExecuteTime": {
     "end_time": "2018-10-08T05:18:07.008145Z",
     "start_time": "2018-10-08T05:17:55.086Z"
    }
   },
   "outputs": [],
   "source": [
    "dct2[4]"
   ]
  },
  {
   "cell_type": "code",
   "execution_count": 44,
   "metadata": {
    "ExecuteTime": {
     "end_time": "2018-10-08T14:31:51.186762Z",
     "start_time": "2018-10-08T14:31:51.182953Z"
    }
   },
   "outputs": [],
   "source": [
    "def mu0(x):\n",
    "    return coef*make_distance(x)\n",
    "\n",
    "\n",
    "def make_matrix(data_X,S):\n",
    "    matrix=np.zeros((len(data_X),len(data_X)))\n",
    "    for i in range(len(data_X)):\n",
    "        for j in range(len(data_X)):\n",
    "            matrix[i][j]=S(data_X[i],data_X[j])\n",
    "    return matrix\n",
    "\n",
    "\n"
   ]
  },
  {
   "cell_type": "code",
   "execution_count": 74,
   "metadata": {
    "ExecuteTime": {
     "end_time": "2018-10-08T16:41:46.300589Z",
     "start_time": "2018-10-08T16:41:46.266741Z"
    }
   },
   "outputs": [],
   "source": []
  },
  {
   "cell_type": "code",
   "execution_count": 33,
   "metadata": {
    "ExecuteTime": {
     "end_time": "2018-10-08T14:26:30.354090Z",
     "start_time": "2018-10-08T14:24:07.158320Z"
    }
   },
   "outputs": [
    {
     "name": "stderr",
     "output_type": "stream",
     "text": [
      "/Users/williamcottrell72/anaconda3/lib/python3.6/site-packages/ipykernel_launcher.py:11: RuntimeWarning: invalid value encountered in arccos\n",
      "  # This is added back by InteractiveShellApp.init_path()\n"
     ]
    }
   ],
   "source": [
    "matrix=make_matrix(current_X,S)"
   ]
  },
  {
   "cell_type": "code",
   "execution_count": 50,
   "metadata": {
    "ExecuteTime": {
     "end_time": "2018-10-08T14:35:07.052173Z",
     "start_time": "2018-10-08T14:35:06.999358Z"
    }
   },
   "outputs": [],
   "source": [
    "inv=np.nan_to_num(np.linalg.inv(matrix))\n",
    "matrix2=np.nan_to_num(matrix)"
   ]
  },
  {
   "cell_type": "code",
   "execution_count": 54,
   "metadata": {
    "ExecuteTime": {
     "end_time": "2018-10-08T14:36:27.093295Z",
     "start_time": "2018-10-08T14:36:27.090085Z"
    }
   },
   "outputs": [],
   "source": [
    "mu_array=np.nan_to_num(mu0(current_X))"
   ]
  },
  {
   "cell_type": "markdown",
   "metadata": {},
   "source": [
    "For each 'x' need mu(x), need to define a vectorial version of sigma..."
   ]
  },
  {
   "cell_type": "code",
   "execution_count": 61,
   "metadata": {
    "ExecuteTime": {
     "end_time": "2018-10-08T16:33:32.921020Z",
     "start_time": "2018-10-08T16:33:32.918065Z"
    }
   },
   "outputs": [],
   "source": [
    "def make_vec(S,current_X,X):\n",
    "    array=[]\n",
    "    for x in X:\n",
    "        row=[]\n",
    "        for y in current_X:\n",
    "            row.append(S(x,y))\n",
    "        array.append(np.nan_to_num(np.array(row)))\n",
    "    return np.vstack(array).reshape(len(array),-1)\n",
    "         "
   ]
  },
  {
   "cell_type": "code",
   "execution_count": 77,
   "metadata": {
    "ExecuteTime": {
     "end_time": "2018-10-08T16:43:10.207058Z",
     "start_time": "2018-10-08T16:43:10.042206Z"
    }
   },
   "outputs": [
    {
     "name": "stderr",
     "output_type": "stream",
     "text": [
      "/Users/williamcottrell72/anaconda3/lib/python3.6/site-packages/ipykernel_launcher.py:11: RuntimeWarning: invalid value encountered in arccos\n",
      "  # This is added back by InteractiveShellApp.init_path()\n"
     ]
    }
   ],
   "source": []
  },
  {
   "cell_type": "code",
   "execution_count": 160,
   "metadata": {
    "ExecuteTime": {
     "end_time": "2018-10-08T17:55:35.815398Z",
     "start_time": "2018-10-08T17:53:08.909340Z"
    }
   },
   "outputs": [],
   "source": [
    "\n",
    "shuffle=np.random.permutation(len(X))\n",
    "X_rand=X[shuffle][:1000]\n",
    "Y_rand=Y[shuffle][:1000]\n",
    "X_test=X_rand[-100:]\n",
    "Y_test=Y_rand[-100:]\n",
    "full=np.nan_to_num(make_matrix(X_rand,S))\n",
    "\n",
    "\n",
    "rf=RandomForestRegressor()"
   ]
  },
  {
   "cell_type": "code",
   "execution_count": 161,
   "metadata": {
    "ExecuteTime": {
     "end_time": "2018-10-08T18:05:52.237362Z",
     "start_time": "2018-10-08T17:55:44.047136Z"
    }
   },
   "outputs": [
    {
     "name": "stdout",
     "output_type": "stream",
     "text": [
      "0 11\n",
      "1 12\n",
      "2 13\n",
      "3 14\n",
      "4 15\n",
      "5 16\n",
      "6 17\n",
      "7 18\n",
      "8 19\n",
      "9 20\n",
      "10 21\n",
      "11 22\n",
      "12 23\n",
      "13 24\n",
      "14 25\n",
      "15 26\n",
      "16 27\n",
      "17 28\n",
      "18 29\n",
      "19 30\n",
      "20 31\n",
      "21 32\n",
      "22 33\n",
      "23 34\n",
      "24 35\n",
      "25 36\n",
      "26 37\n",
      "27 38\n",
      "28 39\n",
      "29 40\n",
      "30 41\n",
      "31 42\n",
      "32 43\n",
      "33 44\n",
      "34 45\n",
      "35 46\n",
      "36 47\n",
      "37 48\n",
      "38 49\n",
      "39 50\n",
      "40 51\n",
      "41 52\n",
      "42 53\n",
      "43 54\n",
      "44 55\n",
      "45 56\n",
      "46 57\n",
      "47 58\n",
      "48 59\n",
      "49 60\n",
      "50 61\n",
      "51 62\n",
      "52 63\n",
      "53 64\n",
      "54 65\n",
      "55 66\n",
      "56 67\n",
      "57 68\n",
      "58 69\n",
      "59 70\n",
      "60 71\n",
      "61 72\n",
      "62 73\n",
      "63 74\n",
      "64 75\n",
      "65 76\n",
      "66 77\n",
      "67 78\n",
      "68 79\n",
      "69 80\n",
      "70 81\n",
      "71 82\n",
      "72 83\n",
      "73 84\n",
      "74 85\n",
      "75 86\n",
      "76 87\n",
      "77 88\n",
      "78 89\n",
      "79 90\n"
     ]
    }
   ],
   "source": [
    "bayes_score=[]\n",
    "naive_score=[]\n",
    "current_X=X_rand[:10]\n",
    "current_Y=Y_rand[:10]\n",
    "\n",
    "for k in range(200):\n",
    "\n",
    "    matrix=np.nan_to_num(make_matrix(current_X,S))\n",
    "    try:\n",
    "        inv=np.linalg.inv(matrix)\n",
    "    except:\n",
    "        break\n",
    "    vec=make_vec(S,current_X,X_rand)\n",
    "\n",
    "\n",
    "    sigma_squared=[]\n",
    "    for i in range(100):\n",
    "        s2=full[i][i]-np.dot(vec[i],np.dot(inv,vec.T))[i]\n",
    "        sigma_squared.append(s2)\n",
    "\n",
    "    ind=np.argmax(sigma_squared)\n",
    "\n",
    "    current_X=np.nan_to_num(np.concatenate((current_X,X_rand[ind].reshape(1,-1)),axis=0))\n",
    "    current_Y=np.nan_to_num(np.concatenate((current_Y.reshape(-1,1),Y_rand[ind].reshape(1,-1)),axis=0))\n",
    "    naive_current_X=np.nan_to_num(X_rand[:11+k])\n",
    "    naive_current_Y=np.nan_to_num(Y_rand[:11+k])\n",
    "    rf.fit(current_X,current_Y)\n",
    "    bayes_score.append(rf.score(X_test,Y_test))\n",
    "    \n",
    "    rf.fit(naive_current_X,naive_current_Y)\n",
    "    naive_score.append(rf.score(X_test,Y_test))\n",
    "    \n",
    "    \n",
    "    print(k,len(current_X))"
   ]
  },
  {
   "cell_type": "code",
   "execution_count": 167,
   "metadata": {
    "ExecuteTime": {
     "end_time": "2018-10-08T21:43:37.413547Z",
     "start_time": "2018-10-08T21:43:37.298116Z"
    }
   },
   "outputs": [
    {
     "data": {
      "image/png": "[encoded data removed]",
      "text/plain": [
       "<Figure size 432x288 with 1 Axes>"
      ]
     },
     "metadata": {
      "needs_background": "light"
     },
     "output_type": "display_data"
    }
   ],
   "source": [
    "plt.plot(range(len(bayes_score)),bayes_score,label=\"Bayesian\")\n",
    "plt.plot(range(len(bayes_score)),naive_score,label=\"Random\")\n",
    "plt.xlabel(\"Number of Samples Samples\")\n",
    "plt.ylabel(\"R-squared\")\n",
    "plt.title(\"Comparing Query Methods\")\n",
    "plt.legend()\n",
    "plt.show()"
   ]
  },
  {
   "cell_type": "code",
   "execution_count": null,
   "metadata": {},
   "outputs": [],
   "source": [
    "def approx(dct,data_X):\n",
    "    new={}\n",
    "    key_list=sorted(list(dct.keys()))\n",
    "    for x in data_X:\n",
    "        \n",
    "        index=bisect.bisect_left(key_list,x)\n",
    "#         print(\"#######################################\",flush=True)\n",
    "#         print(len(list(dct.keys())))\n",
    "#         print(index)\n",
    "        try:\n",
    "            new[x]=(dct[key_list[index]]+dct[key_list[index+1]])/2\n",
    "        except:\n",
    "            new[x]=1\n",
    "            \n",
    "    return new\n",
    "\n",
    "\n",
    "def mu(x,data_X,matrix,inv_matrix,mu0_dct):\n",
    "    \n",
    "#     matrix=make_matrix(data_X,S)\n",
    "#     inv_matrix=np.linalg.inv(matrix)\n",
    "    \n",
    "    app=approx(mu0_dct,data_X)\n",
    "    diff=np.array([f(y)-app[y] for y in data_X])\n",
    "    sigma=np.array([S(x,y) for y in data_X])\n",
    "    mat1=np.matmul(inv_matrix,diff)\n",
    "    dot_prod=np.matmul(sigma,mat1)\n",
    "    return dot_prod+mu0_dct[x]\n",
    "\n",
    "def make_mumesh(mu,data_X,matrix,inv_matrix,mu0):\n",
    "    return {x:mu(x,data_X,matrix,inv_matrix,mu0) for x in mesh}\n",
    "\n",
    "\n",
    "def var(x,data_X,matrix,inv_matrix):\n",
    "#     matrix=make_matrix(data_X,S)\n",
    "#     inv_matrix=np.linalg.inv(matrix)\n",
    "    sigma=np.array([S(x,y) for y in data_X])\n",
    "    improvement=np.matmul(sigma,np.matmul(inv_matrix,sigma))\n",
    "    return S(x,x)-improvement\n",
    "\n",
    "def make_varmesh(var,data_X,matrix,inv_matrix):\n",
    "    return {x:var(x,data_X,matrix,inv_matrix) for x in mesh}\n",
    "\n",
    "def varx(x):\n",
    "    return var(x,data_X,matrix,inv_matrix)\n",
    "\n",
    "# def mux(x):\n",
    "#     return mu(x,data_X,mu0)"
   ]
  },
  {
   "cell_type": "code",
   "execution_count": null,
   "metadata": {},
   "outputs": [],
   "source": []
  },
  {
   "cell_type": "code",
   "execution_count": 13,
   "metadata": {
    "ExecuteTime": {
     "end_time": "2018-10-08T05:33:54.313441Z",
     "start_time": "2018-10-08T05:33:54.311011Z"
    }
   },
   "outputs": [],
   "source": [
    "def guess(x):\n",
    "    10*x"
   ]
  },
  {
   "cell_type": "code",
   "execution_count": 10,
   "metadata": {
    "ExecuteTime": {
     "end_time": "2018-10-08T05:33:23.708235Z",
     "start_time": "2018-10-08T05:33:23.704661Z"
    }
   },
   "outputs": [],
   "source": [
    "def error(good_distance,Y,fun):\n",
    "    return np.array([Y[i]-fun(good_distance[i]) for i in range(len(good_distance))])**2\n",
    "\n",
    "def grad(good_distance,Y,fun):\n",
    "    def fun2(x):\n",
    "        return fun(x)+.001*x\n",
    "    return (error(good_distance,Y,fun2)-error(good_distance,Y,fun))/.001"
   ]
  },
  {
   "cell_type": "code",
   "execution_count": 14,
   "metadata": {
    "ExecuteTime": {
     "end_time": "2018-10-08T05:33:56.381944Z",
     "start_time": "2018-10-08T05:33:56.379400Z"
    }
   },
   "outputs": [],
   "source": [
    "fun(2)"
   ]
  },
  {
   "cell_type": "code",
   "execution_count": 11,
   "metadata": {
    "ExecuteTime": {
     "end_time": "2018-10-08T05:33:24.624938Z",
     "start_time": "2018-10-08T05:33:24.602051Z"
    }
   },
   "outputs": [
    {
     "ename": "TypeError",
     "evalue": "unsupported operand type(s) for +: 'NoneType' and 'float'",
     "output_type": "error",
     "traceback": [
      "\u001b[0;31m---------------------------------------------------------------------------\u001b[0m",
      "\u001b[0;31mTypeError\u001b[0m                                 Traceback (most recent call last)",
      "\u001b[0;32m<ipython-input-11-b299a975ec07>\u001b[0m in \u001b[0;36m<module>\u001b[0;34m()\u001b[0m\n\u001b[1;32m      1\u001b[0m \u001b[0mfun\u001b[0m\u001b[0;34m=\u001b[0m\u001b[0mguess\u001b[0m\u001b[0;34m\u001b[0m\u001b[0m\n\u001b[1;32m      2\u001b[0m \u001b[0;32mfor\u001b[0m \u001b[0mi\u001b[0m \u001b[0;32min\u001b[0m \u001b[0mrange\u001b[0m\u001b[0;34m(\u001b[0m\u001b[0;36m10\u001b[0m\u001b[0;34m)\u001b[0m\u001b[0;34m:\u001b[0m\u001b[0;34m\u001b[0m\u001b[0m\n\u001b[0;32m----> 3\u001b[0;31m     \u001b[0;32mif\u001b[0m \u001b[0mgrad\u001b[0m\u001b[0;34m(\u001b[0m\u001b[0mgood_distance\u001b[0m\u001b[0;34m[\u001b[0m\u001b[0;34m:\u001b[0m\u001b[0;36m100\u001b[0m\u001b[0;34m]\u001b[0m\u001b[0;34m,\u001b[0m\u001b[0mY\u001b[0m\u001b[0;34m[\u001b[0m\u001b[0mmask\u001b[0m\u001b[0;34m]\u001b[0m\u001b[0;34m[\u001b[0m\u001b[0;34m:\u001b[0m\u001b[0;36m100\u001b[0m\u001b[0;34m]\u001b[0m\u001b[0;34m,\u001b[0m\u001b[0mfun\u001b[0m\u001b[0;34m)\u001b[0m \u001b[0;34m>\u001b[0m\u001b[0;36m0\u001b[0m\u001b[0;34m:\u001b[0m\u001b[0;34m\u001b[0m\u001b[0m\n\u001b[0m\u001b[1;32m      4\u001b[0m         \u001b[0;32mdef\u001b[0m \u001b[0mfun\u001b[0m\u001b[0;34m(\u001b[0m\u001b[0mx\u001b[0m\u001b[0;34m)\u001b[0m\u001b[0;34m:\u001b[0m\u001b[0;34m\u001b[0m\u001b[0m\n\u001b[1;32m      5\u001b[0m             \u001b[0;32mreturn\u001b[0m \u001b[0mfun\u001b[0m\u001b[0;34m(\u001b[0m\u001b[0mx\u001b[0m\u001b[0;34m)\u001b[0m\u001b[0;34m-\u001b[0m\u001b[0;36m.001\u001b[0m\u001b[0;34m*\u001b[0m\u001b[0mx\u001b[0m\u001b[0;34m\u001b[0m\u001b[0m\n",
      "\u001b[0;32m<ipython-input-10-c42e9f6b21a9>\u001b[0m in \u001b[0;36mgrad\u001b[0;34m(good_distance, Y, fun)\u001b[0m\n\u001b[1;32m      5\u001b[0m     \u001b[0;32mdef\u001b[0m \u001b[0mfun2\u001b[0m\u001b[0;34m(\u001b[0m\u001b[0mx\u001b[0m\u001b[0;34m)\u001b[0m\u001b[0;34m:\u001b[0m\u001b[0;34m\u001b[0m\u001b[0m\n\u001b[1;32m      6\u001b[0m         \u001b[0;32mreturn\u001b[0m \u001b[0mfun\u001b[0m\u001b[0;34m(\u001b[0m\u001b[0mx\u001b[0m\u001b[0;34m)\u001b[0m\u001b[0;34m+\u001b[0m\u001b[0;36m.001\u001b[0m\u001b[0;34m*\u001b[0m\u001b[0mx\u001b[0m\u001b[0;34m\u001b[0m\u001b[0m\n\u001b[0;32m----> 7\u001b[0;31m     \u001b[0;32mreturn\u001b[0m \u001b[0;34m(\u001b[0m\u001b[0merror\u001b[0m\u001b[0;34m(\u001b[0m\u001b[0mgood_distance\u001b[0m\u001b[0;34m,\u001b[0m\u001b[0mY\u001b[0m\u001b[0;34m,\u001b[0m\u001b[0mfun2\u001b[0m\u001b[0;34m)\u001b[0m\u001b[0;34m-\u001b[0m\u001b[0merror\u001b[0m\u001b[0;34m(\u001b[0m\u001b[0mgood_distance\u001b[0m\u001b[0;34m,\u001b[0m\u001b[0mY\u001b[0m\u001b[0;34m,\u001b[0m\u001b[0mfun\u001b[0m\u001b[0;34m)\u001b[0m\u001b[0;34m)\u001b[0m\u001b[0;34m/\u001b[0m\u001b[0;36m.001\u001b[0m\u001b[0;34m\u001b[0m\u001b[0m\n\u001b[0m",
      "\u001b[0;32m<ipython-input-10-c42e9f6b21a9>\u001b[0m in \u001b[0;36merror\u001b[0;34m(good_distance, Y, fun)\u001b[0m\n\u001b[1;32m      1\u001b[0m \u001b[0;32mdef\u001b[0m \u001b[0merror\u001b[0m\u001b[0;34m(\u001b[0m\u001b[0mgood_distance\u001b[0m\u001b[0;34m,\u001b[0m\u001b[0mY\u001b[0m\u001b[0;34m,\u001b[0m\u001b[0mfun\u001b[0m\u001b[0;34m)\u001b[0m\u001b[0;34m:\u001b[0m\u001b[0;34m\u001b[0m\u001b[0m\n\u001b[0;32m----> 2\u001b[0;31m     \u001b[0;32mreturn\u001b[0m \u001b[0mnp\u001b[0m\u001b[0;34m.\u001b[0m\u001b[0marray\u001b[0m\u001b[0;34m(\u001b[0m\u001b[0;34m[\u001b[0m\u001b[0mY\u001b[0m\u001b[0;34m[\u001b[0m\u001b[0mi\u001b[0m\u001b[0;34m]\u001b[0m\u001b[0;34m-\u001b[0m\u001b[0mfun\u001b[0m\u001b[0;34m(\u001b[0m\u001b[0mgood_distance\u001b[0m\u001b[0;34m[\u001b[0m\u001b[0mi\u001b[0m\u001b[0;34m]\u001b[0m\u001b[0;34m)\u001b[0m \u001b[0;32mfor\u001b[0m \u001b[0mi\u001b[0m \u001b[0;32min\u001b[0m \u001b[0mrange\u001b[0m\u001b[0;34m(\u001b[0m\u001b[0mlen\u001b[0m\u001b[0;34m(\u001b[0m\u001b[0mgood_distance\u001b[0m\u001b[0;34m)\u001b[0m\u001b[0;34m)\u001b[0m\u001b[0;34m]\u001b[0m\u001b[0;34m)\u001b[0m\u001b[0;34m**\u001b[0m\u001b[0;36m2\u001b[0m\u001b[0;34m\u001b[0m\u001b[0m\n\u001b[0m\u001b[1;32m      3\u001b[0m \u001b[0;34m\u001b[0m\u001b[0m\n\u001b[1;32m      4\u001b[0m \u001b[0;32mdef\u001b[0m \u001b[0mgrad\u001b[0m\u001b[0;34m(\u001b[0m\u001b[0mgood_distance\u001b[0m\u001b[0;34m,\u001b[0m\u001b[0mY\u001b[0m\u001b[0;34m,\u001b[0m\u001b[0mfun\u001b[0m\u001b[0;34m)\u001b[0m\u001b[0;34m:\u001b[0m\u001b[0;34m\u001b[0m\u001b[0m\n\u001b[1;32m      5\u001b[0m     \u001b[0;32mdef\u001b[0m \u001b[0mfun2\u001b[0m\u001b[0;34m(\u001b[0m\u001b[0mx\u001b[0m\u001b[0;34m)\u001b[0m\u001b[0;34m:\u001b[0m\u001b[0;34m\u001b[0m\u001b[0m\n",
      "\u001b[0;32m<ipython-input-10-c42e9f6b21a9>\u001b[0m in \u001b[0;36m<listcomp>\u001b[0;34m(.0)\u001b[0m\n\u001b[1;32m      1\u001b[0m \u001b[0;32mdef\u001b[0m \u001b[0merror\u001b[0m\u001b[0;34m(\u001b[0m\u001b[0mgood_distance\u001b[0m\u001b[0;34m,\u001b[0m\u001b[0mY\u001b[0m\u001b[0;34m,\u001b[0m\u001b[0mfun\u001b[0m\u001b[0;34m)\u001b[0m\u001b[0;34m:\u001b[0m\u001b[0;34m\u001b[0m\u001b[0m\n\u001b[0;32m----> 2\u001b[0;31m     \u001b[0;32mreturn\u001b[0m \u001b[0mnp\u001b[0m\u001b[0;34m.\u001b[0m\u001b[0marray\u001b[0m\u001b[0;34m(\u001b[0m\u001b[0;34m[\u001b[0m\u001b[0mY\u001b[0m\u001b[0;34m[\u001b[0m\u001b[0mi\u001b[0m\u001b[0;34m]\u001b[0m\u001b[0;34m-\u001b[0m\u001b[0mfun\u001b[0m\u001b[0;34m(\u001b[0m\u001b[0mgood_distance\u001b[0m\u001b[0;34m[\u001b[0m\u001b[0mi\u001b[0m\u001b[0;34m]\u001b[0m\u001b[0;34m)\u001b[0m \u001b[0;32mfor\u001b[0m \u001b[0mi\u001b[0m \u001b[0;32min\u001b[0m \u001b[0mrange\u001b[0m\u001b[0;34m(\u001b[0m\u001b[0mlen\u001b[0m\u001b[0;34m(\u001b[0m\u001b[0mgood_distance\u001b[0m\u001b[0;34m)\u001b[0m\u001b[0;34m)\u001b[0m\u001b[0;34m]\u001b[0m\u001b[0;34m)\u001b[0m\u001b[0;34m**\u001b[0m\u001b[0;36m2\u001b[0m\u001b[0;34m\u001b[0m\u001b[0m\n\u001b[0m\u001b[1;32m      3\u001b[0m \u001b[0;34m\u001b[0m\u001b[0m\n\u001b[1;32m      4\u001b[0m \u001b[0;32mdef\u001b[0m \u001b[0mgrad\u001b[0m\u001b[0;34m(\u001b[0m\u001b[0mgood_distance\u001b[0m\u001b[0;34m,\u001b[0m\u001b[0mY\u001b[0m\u001b[0;34m,\u001b[0m\u001b[0mfun\u001b[0m\u001b[0;34m)\u001b[0m\u001b[0;34m:\u001b[0m\u001b[0;34m\u001b[0m\u001b[0m\n\u001b[1;32m      5\u001b[0m     \u001b[0;32mdef\u001b[0m \u001b[0mfun2\u001b[0m\u001b[0;34m(\u001b[0m\u001b[0mx\u001b[0m\u001b[0;34m)\u001b[0m\u001b[0;34m:\u001b[0m\u001b[0;34m\u001b[0m\u001b[0m\n",
      "\u001b[0;32m<ipython-input-10-c42e9f6b21a9>\u001b[0m in \u001b[0;36mfun2\u001b[0;34m(x)\u001b[0m\n\u001b[1;32m      4\u001b[0m \u001b[0;32mdef\u001b[0m \u001b[0mgrad\u001b[0m\u001b[0;34m(\u001b[0m\u001b[0mgood_distance\u001b[0m\u001b[0;34m,\u001b[0m\u001b[0mY\u001b[0m\u001b[0;34m,\u001b[0m\u001b[0mfun\u001b[0m\u001b[0;34m)\u001b[0m\u001b[0;34m:\u001b[0m\u001b[0;34m\u001b[0m\u001b[0m\n\u001b[1;32m      5\u001b[0m     \u001b[0;32mdef\u001b[0m \u001b[0mfun2\u001b[0m\u001b[0;34m(\u001b[0m\u001b[0mx\u001b[0m\u001b[0;34m)\u001b[0m\u001b[0;34m:\u001b[0m\u001b[0;34m\u001b[0m\u001b[0m\n\u001b[0;32m----> 6\u001b[0;31m         \u001b[0;32mreturn\u001b[0m \u001b[0mfun\u001b[0m\u001b[0;34m(\u001b[0m\u001b[0mx\u001b[0m\u001b[0;34m)\u001b[0m\u001b[0;34m+\u001b[0m\u001b[0;36m.001\u001b[0m\u001b[0;34m*\u001b[0m\u001b[0mx\u001b[0m\u001b[0;34m\u001b[0m\u001b[0m\n\u001b[0m\u001b[1;32m      7\u001b[0m     \u001b[0;32mreturn\u001b[0m \u001b[0;34m(\u001b[0m\u001b[0merror\u001b[0m\u001b[0;34m(\u001b[0m\u001b[0mgood_distance\u001b[0m\u001b[0;34m,\u001b[0m\u001b[0mY\u001b[0m\u001b[0;34m,\u001b[0m\u001b[0mfun2\u001b[0m\u001b[0;34m)\u001b[0m\u001b[0;34m-\u001b[0m\u001b[0merror\u001b[0m\u001b[0;34m(\u001b[0m\u001b[0mgood_distance\u001b[0m\u001b[0;34m,\u001b[0m\u001b[0mY\u001b[0m\u001b[0;34m,\u001b[0m\u001b[0mfun\u001b[0m\u001b[0;34m)\u001b[0m\u001b[0;34m)\u001b[0m\u001b[0;34m/\u001b[0m\u001b[0;36m.001\u001b[0m\u001b[0;34m\u001b[0m\u001b[0m\n",
      "\u001b[0;31mTypeError\u001b[0m: unsupported operand type(s) for +: 'NoneType' and 'float'"
     ]
    }
   ],
   "source": [
    "fun=guess\n",
    "for i in range(10):\n",
    "    if grad(good_distance[:100],Y[mask][:100],fun) >0:\n",
    "        def fun(x):\n",
    "            return fun(x)-.001*x\n",
    "    else:\n",
    "        def fun(x):\n",
    "            return fun(x)+.001*x\n",
    "        \n",
    "    "
   ]
  },
  {
   "cell_type": "code",
   "execution_count": null,
   "metadata": {},
   "outputs": [],
   "source": []
  }
 ],
 "metadata": {
  "kernelspec": {
   "display_name": "Python 3",
   "language": "python",
   "name": "python3"
  },
  "language_info": {
   "codemirror_mode": {
    "name": "ipython",
    "version": 3
   },
   "file_extension": ".py",
   "mimetype": "text/x-python",
   "name": "python",
   "nbconvert_exporter": "python",
   "pygments_lexer": "ipython3",
   "version": "3.6.6"
  },
  "varInspector": {
   "cols": {
    "lenName": 16,
    "lenType": 16,
    "lenVar": 40
   },
   "kernels_config": {
    "python": {
     "delete_cmd_postfix": "",
     "delete_cmd_prefix": "del ",
     "library": "var_list.py",
     "varRefreshCmd": "print(var_dic_list())"
    },
    "r": {
     "delete_cmd_postfix": ") ",
     "delete_cmd_prefix": "rm(",
     "library": "var_list.r",
     "varRefreshCmd": "cat(var_dic_list()) "
    }
   },
   "types_to_exclude": [
    "module",
    "function",
    "builtin_function_or_method",
    "instance",
    "_Feature"
   ],
   "window_display": false
  }
 },
 "nbformat": 4,
 "nbformat_minor": 2
}
